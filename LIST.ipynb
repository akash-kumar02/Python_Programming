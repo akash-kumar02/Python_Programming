{
  "cells": [
    {
      "cell_type": "markdown",
      "metadata": {
        "id": "p13PWOVfneUe"
      },
      "source": [
        "1.\tWrite a Program to interchange first and last elements in a list"
      ]
    },
    {
      "cell_type": "code",
      "execution_count": null,
      "metadata": {
        "id": "1I4zON1ineUg",
        "outputId": "5f14737e-3f6d-4850-995f-22f58c86c3cc"
      },
      "outputs": [
        {
          "name": "stdout",
          "output_type": "stream",
          "text": [
            "[6, 2, 3, 4, 5, 1]\n"
          ]
        }
      ],
      "source": [
        "l = [ 1, 2, 3, 4, 5, 6 ]\n",
        "\n",
        "n = l[0]\n",
        "\n",
        "k = l[len(l) -1]\n",
        "\n",
        "l[0]= k\n",
        "l[len(l) -1] = n\n",
        "print(l)"
      ]
    },
    {
      "cell_type": "markdown",
      "metadata": {
        "id": "BKzk0ToIneUi"
      },
      "source": [
        "2.\tProgram to swap two elements in a list"
      ]
    },
    {
      "cell_type": "markdown",
      "metadata": {
        "id": "HLBYyUJYneUi"
      },
      "source": [
        "3.\tSwap elements in String list"
      ]
    },
    {
      "cell_type": "code",
      "execution_count": null,
      "metadata": {
        "id": "maux8zblneUj",
        "outputId": "f78cdbb1-ca5d-4ac6-e926-5319f610c008"
      },
      "outputs": [
        {
          "name": "stdout",
          "output_type": "stream",
          "text": [
            "['mayank', 'paul', 'sahil', 'suneet']\n"
          ]
        }
      ],
      "source": [
        "str_list  = [ 'suneet', 'paul', 'sahil', 'mayank']\n",
        "\n",
        "n = str_list[0]\n",
        "\n",
        "str_list[0]= str_list[len(str_list) -1]\n",
        "\n",
        "str_list[len(str_list) -1] = n\n",
        "\n",
        "print(str_list)\n"
      ]
    },
    {
      "cell_type": "markdown",
      "metadata": {
        "id": "YZqeUk-xneUj"
      },
      "source": [
        "4.\tWays to find length of list"
      ]
    },
    {
      "cell_type": "code",
      "execution_count": null,
      "metadata": {
        "id": "ZHV2hN9mneUj",
        "outputId": "0b465e7c-ac7c-4a84-cee7-ccd46b38f4f8"
      },
      "outputs": [
        {
          "data": {
            "text/plain": [
              "9"
            ]
          },
          "execution_count": 22,
          "metadata": {},
          "output_type": "execute_result"
        }
      ],
      "source": [
        "liist = [ 1, 2, 3 ,4 , 5, 6, 7, 8,9]\n",
        "\n",
        "len(liist)\n",
        "\n"
      ]
    },
    {
      "cell_type": "code",
      "execution_count": null,
      "metadata": {
        "id": "JtdIfAlgneUj",
        "outputId": "ea92a927-ceb8-4e36-d785-ef2270a5b7e4"
      },
      "outputs": [
        {
          "name": "stdout",
          "output_type": "stream",
          "text": [
            "9\n"
          ]
        }
      ],
      "source": [
        "size = 0\n",
        "for i in liist:\n",
        "    size += 1\n",
        "\n",
        "print(size)\n"
      ]
    },
    {
      "cell_type": "markdown",
      "metadata": {
        "id": "77PsNV2ZneUk"
      },
      "source": [
        "5.\tMaximum of two numbers in Python"
      ]
    },
    {
      "cell_type": "code",
      "execution_count": null,
      "metadata": {
        "id": "EgNkoPX7neUk"
      },
      "outputs": [],
      "source": []
    },
    {
      "cell_type": "markdown",
      "metadata": {
        "id": "uYRBalBdneUk"
      },
      "source": [
        "6.\tMinimum of two numbers in Python"
      ]
    },
    {
      "cell_type": "code",
      "execution_count": null,
      "metadata": {
        "id": "woB6SRPsneUl"
      },
      "outputs": [],
      "source": []
    },
    {
      "cell_type": "markdown",
      "metadata": {
        "id": "3MyxXgUeneUl"
      },
      "source": [
        "7.\tWays to check if element exists in list"
      ]
    },
    {
      "cell_type": "code",
      "execution_count": null,
      "metadata": {
        "id": "bLCBqHZzneUl",
        "outputId": "0bd1035d-da97-4742-cecc-15ae7a1c81b2"
      },
      "outputs": [
        {
          "data": {
            "text/plain": [
              "1"
            ]
          },
          "execution_count": 32,
          "metadata": {},
          "output_type": "execute_result"
        }
      ],
      "source": [
        "list_ =  [ 1,2,3,4,5,6,7,8]\n",
        "\n",
        "list_.index(2)"
      ]
    },
    {
      "cell_type": "code",
      "execution_count": null,
      "metadata": {
        "id": "oENFfhieneUl",
        "outputId": "525a9b34-9eba-4b56-cb80-991c10d41ef9"
      },
      "outputs": [
        {
          "name": "stdout",
          "output_type": "stream",
          "text": [
            "1\n"
          ]
        }
      ],
      "source": [
        "a = list_.count(2)\n",
        "print(a)"
      ]
    },
    {
      "cell_type": "code",
      "execution_count": null,
      "metadata": {
        "id": "gMLqDAOKneUm",
        "outputId": "9e76345d-086c-4000-822a-75b9a37e3ec5"
      },
      "outputs": [
        {
          "name": "stdout",
          "output_type": "stream",
          "text": [
            "2 is in the list\n"
          ]
        }
      ],
      "source": [
        "if 2 in list_:\n",
        "    print(\"2 is in the list\")\n",
        "else:\n",
        "    print(\"2 is not in the list\")"
      ]
    },
    {
      "cell_type": "markdown",
      "metadata": {
        "id": "M3KCCw5SneUm"
      },
      "source": [
        "8.\tDifferent ways to clear a list in Python"
      ]
    },
    {
      "cell_type": "code",
      "execution_count": null,
      "metadata": {
        "id": "LZatZQDjneUm",
        "outputId": "edbbf110-2dda-46ba-f9d1-668fec5d6965"
      },
      "outputs": [
        {
          "name": "stdout",
          "output_type": "stream",
          "text": [
            "[]\n"
          ]
        }
      ],
      "source": [
        "LIST =  [ 'apple' , 'banana', 'cherry', 'orange' ]\n",
        "\n",
        "LIST.clear()\n",
        "print(LIST)"
      ]
    },
    {
      "cell_type": "code",
      "execution_count": null,
      "metadata": {
        "id": "zSYHKqd5neUm",
        "outputId": "28ad627b-e0ab-49a8-ccbf-1a17f4ac8051"
      },
      "outputs": [
        {
          "ename": "NameError",
          "evalue": "name 'LIST' is not defined",
          "output_type": "error",
          "traceback": [
            "\u001b[1;31m---------------------------------------------------------------------------\u001b[0m",
            "\u001b[1;31mNameError\u001b[0m                                 Traceback (most recent call last)",
            "Cell \u001b[1;32mIn[38], line 4\u001b[0m\n\u001b[0;32m      1\u001b[0m LIST \u001b[38;5;241m=\u001b[39m  [ \u001b[38;5;124m'\u001b[39m\u001b[38;5;124mapple\u001b[39m\u001b[38;5;124m'\u001b[39m , \u001b[38;5;124m'\u001b[39m\u001b[38;5;124mbanana\u001b[39m\u001b[38;5;124m'\u001b[39m, \u001b[38;5;124m'\u001b[39m\u001b[38;5;124mcherry\u001b[39m\u001b[38;5;124m'\u001b[39m, \u001b[38;5;124m'\u001b[39m\u001b[38;5;124morange\u001b[39m\u001b[38;5;124m'\u001b[39m ]\n\u001b[0;32m      3\u001b[0m \u001b[38;5;28;01mdel\u001b[39;00m LIST\n\u001b[1;32m----> 4\u001b[0m \u001b[38;5;28mprint\u001b[39m(LIST)\n",
            "\u001b[1;31mNameError\u001b[0m: name 'LIST' is not defined"
          ]
        }
      ],
      "source": [
        "LIST =  [ 'apple' , 'banana', 'cherry', 'orange' ]\n",
        "\n",
        "del LIST\n",
        "print(LIST)"
      ]
    },
    {
      "cell_type": "code",
      "execution_count": null,
      "metadata": {
        "id": "BaOFTEPQneUn",
        "outputId": "11e28a8f-479c-46bd-b989-eb0f87a7b571"
      },
      "outputs": [
        {
          "name": "stdout",
          "output_type": "stream",
          "text": [
            "[]\n"
          ]
        }
      ],
      "source": [
        "LIST =  [ 'apple' , 'banana', 'cherry', 'orange' ]\n",
        "\n",
        "l = len(LIST)\n",
        "for i in range(l):\n",
        "    LIST.pop()\n",
        "\n",
        "print(LIST)"
      ]
    },
    {
      "cell_type": "code",
      "execution_count": null,
      "metadata": {
        "id": "COg74CrWneUn",
        "outputId": "b5573a51-ea35-45a2-eb9d-6abb5bdd9859"
      },
      "outputs": [
        {
          "name": "stdout",
          "output_type": "stream",
          "text": [
            "[2, 3, 4, 5, 6, 7, 8]\n",
            "[2, 4, 5, 6, 7, 8]\n",
            "[2, 4, 6, 7, 8]\n",
            "[2, 4, 6, 8]\n"
          ]
        }
      ],
      "source": [
        "LIST =  [ 1,2,3,4,5,6,7,8]\n",
        "\n",
        "for x in LIST:\n",
        "    LIST.remove(x)\n",
        "    print(LIST)\n"
      ]
    },
    {
      "cell_type": "code",
      "execution_count": null,
      "metadata": {
        "id": "SHCst9qBneUn"
      },
      "outputs": [],
      "source": []
    },
    {
      "cell_type": "markdown",
      "metadata": {
        "id": "nHBpJVwGneUn"
      },
      "source": [
        "9.\tReversing a List"
      ]
    },
    {
      "cell_type": "code",
      "execution_count": null,
      "metadata": {
        "id": "eg-fF3VdneUn",
        "outputId": "2bb827bd-2730-4ebc-e35c-2b0176dfc1a4"
      },
      "outputs": [
        {
          "name": "stdout",
          "output_type": "stream",
          "text": [
            "['orange', 'cherry', 'banana', 'apple']\n"
          ]
        }
      ],
      "source": [
        "LIST =  [ 'apple' , 'banana', 'cherry', 'orange' ]\n",
        "LIST.reverse()\n",
        "\n",
        "print(LIST)"
      ]
    },
    {
      "cell_type": "code",
      "execution_count": null,
      "metadata": {
        "id": "nbiDxLWkneUo",
        "outputId": "f8980709-14de-498d-8a2f-98e966622011"
      },
      "outputs": [
        {
          "name": "stdout",
          "output_type": "stream",
          "text": [
            "['orange', 'cherry', 'banana', 'apple']\n"
          ]
        }
      ],
      "source": [
        "LIST =  [ 'apple' , 'banana', 'cherry', 'orange' ]\n",
        "LIST.sort(reverse=True)\n",
        "\n",
        "print(LIST)"
      ]
    },
    {
      "cell_type": "markdown",
      "metadata": {
        "id": "d0Tnd6gmneUo"
      },
      "source": [
        "10.\tCloning or Copying a list"
      ]
    },
    {
      "cell_type": "code",
      "execution_count": null,
      "metadata": {
        "id": "RZvmGCqSneUo",
        "outputId": "11cd4c5b-1ee8-42f4-f0f7-7717c603d070"
      },
      "outputs": [
        {
          "name": "stdout",
          "output_type": "stream",
          "text": [
            "['apple', 'banana', 'cherry', 'orange']\n"
          ]
        }
      ],
      "source": [
        "LIST =  [ 'apple' , 'banana', 'cherry', 'orange' ]\n",
        "\n",
        "list_1 = LIST\n",
        "\n",
        "print(list_1)"
      ]
    },
    {
      "cell_type": "code",
      "execution_count": null,
      "metadata": {
        "id": "dKW5TFHBneUo",
        "outputId": "60f7009c-df88-4d3f-9022-925cd21b9d35"
      },
      "outputs": [
        {
          "name": "stdout",
          "output_type": "stream",
          "text": [
            "['apple', 'banana', 'cherry', 'orange']\n"
          ]
        }
      ],
      "source": [
        "list_2 = LIST.copy()\n",
        "\n",
        "print(list_2)"
      ]
    },
    {
      "cell_type": "code",
      "execution_count": null,
      "metadata": {
        "id": "iOWXbevZneUo",
        "outputId": "65854d23-4fbb-496a-bc13-ea5e12fc8b50"
      },
      "outputs": [
        {
          "name": "stdout",
          "output_type": "stream",
          "text": [
            "['apple', 'banana', 'cherry', 'orange']\n"
          ]
        }
      ],
      "source": [
        "list_3 = []\n",
        "for x in LIST:\n",
        "    list_3.append(x)\n",
        "\n",
        "print(list_3)"
      ]
    },
    {
      "cell_type": "markdown",
      "metadata": {
        "id": "JBpgz46SneUp"
      },
      "source": [
        "11.\tCount occurrences of an element in a list"
      ]
    },
    {
      "cell_type": "code",
      "execution_count": null,
      "metadata": {
        "id": "zZJ0j07jneUp",
        "outputId": "14caaf4c-87ff-4b89-9877-c848a7af64a9"
      },
      "outputs": [
        {
          "data": {
            "text/plain": [
              "1"
            ]
          },
          "execution_count": 69,
          "metadata": {},
          "output_type": "execute_result"
        }
      ],
      "source": [
        "list_4 = ['apple', 'banana', 'cherry', 'orange']\n",
        "\n",
        "list_4.count(\"apple\")"
      ]
    },
    {
      "cell_type": "code",
      "execution_count": null,
      "metadata": {
        "id": "dypFfDa1neUp",
        "outputId": "ebf9d342-d35b-4c9d-8529-a83ffc757a9d"
      },
      "outputs": [
        {
          "data": {
            "text/plain": [
              "2"
            ]
          },
          "execution_count": 73,
          "metadata": {},
          "output_type": "execute_result"
        }
      ],
      "source": [
        "list_4 = [1,2,3,3,4,5,6,7]\n",
        "\n",
        "list_4.count(3)"
      ]
    },
    {
      "cell_type": "markdown",
      "metadata": {
        "id": "vVpYs3BUneUq"
      },
      "source": [
        "12.\tProgram to find sum and average of List in Python"
      ]
    },
    {
      "cell_type": "code",
      "execution_count": null,
      "metadata": {
        "id": "cVVKVLAlneUq",
        "outputId": "cd3406d7-b8d1-44f1-b8d0-232c81c83b97"
      },
      "outputs": [
        {
          "name": "stdout",
          "output_type": "stream",
          "text": [
            "sum 0f the list 21\n",
            "Average of the list  3.5\n"
          ]
        }
      ],
      "source": [
        "_list = [1,2,3,4,5,6]\n",
        "\n",
        "Sum =0\n",
        "\n",
        "for i in _list:\n",
        "    Sum += i\n",
        "\n",
        "print(\"sum 0f the list\" , Sum)\n",
        "\n",
        "avg = Sum / len(_list)\n",
        "\n",
        "print(\"Average of the list \" , avg)\n",
        "\n"
      ]
    },
    {
      "cell_type": "markdown",
      "metadata": {
        "id": "4fJSJTZMneUq"
      },
      "source": [
        "13.\tSum of number digits in List"
      ]
    },
    {
      "cell_type": "code",
      "execution_count": null,
      "metadata": {
        "id": "XCOGJDlyneUq",
        "outputId": "3002a3fc-55fe-4ca6-94f9-3fa7b75ab1e3"
      },
      "outputs": [
        {
          "name": "stdout",
          "output_type": "stream",
          "text": [
            "sum 0f the list 21\n"
          ]
        }
      ],
      "source": [
        "List = [1,2,3,4,5,6]\n",
        "\n",
        "Sum =0\n",
        "\n",
        "for i in List:\n",
        "    Sum += i\n",
        "\n",
        "print(\"sum 0f the list\" , Sum)"
      ]
    },
    {
      "cell_type": "markdown",
      "metadata": {
        "id": "A2pMG3IYneUr"
      },
      "source": [
        "14.\tMultiply all numbers in the list"
      ]
    },
    {
      "cell_type": "code",
      "execution_count": null,
      "metadata": {
        "id": "BA6cJvJVneUr",
        "outputId": "56470061-12be-4fb2-873c-09d9da2d6a87"
      },
      "outputs": [
        {
          "name": "stdout",
          "output_type": "stream",
          "text": [
            "720\n"
          ]
        }
      ],
      "source": [
        "List = [1,2,3,4,5,6]\n",
        "\n",
        "mul =1\n",
        "\n",
        "for i in List:\n",
        "    mul *=i\n",
        "\n",
        "print(mul)"
      ]
    },
    {
      "cell_type": "markdown",
      "metadata": {
        "id": "HefJkKBxneUr"
      },
      "source": [
        "15.\tProgram to find smallest number in a list"
      ]
    },
    {
      "cell_type": "code",
      "execution_count": null,
      "metadata": {
        "id": "s_ZObtoeneUx",
        "outputId": "4319e359-107f-49af-cf91-f56b129e266a"
      },
      "outputs": [
        {
          "name": "stdout",
          "output_type": "stream",
          "text": [
            "0.5\n"
          ]
        }
      ],
      "source": [
        "List = [1,2,3,4,5,6 , .5]\n",
        "\n",
        "List.sort()\n",
        "print(List[0])"
      ]
    },
    {
      "cell_type": "markdown",
      "metadata": {
        "id": "Kcibx7E5neUx"
      },
      "source": [
        "16.\tProgram to find largest number in a list"
      ]
    },
    {
      "cell_type": "code",
      "execution_count": null,
      "metadata": {
        "id": "ZzjtipKAneUx",
        "outputId": "94c75bc8-7b58-46ab-b6f4-7d61170b4ae5"
      },
      "outputs": [
        {
          "name": "stdout",
          "output_type": "stream",
          "text": [
            "6\n"
          ]
        }
      ],
      "source": [
        "List = [1,2,3,4,5,6 , .5]\n",
        "\n",
        "List.sort(reverse= True)\n",
        "print(List[0])"
      ]
    },
    {
      "cell_type": "code",
      "execution_count": null,
      "metadata": {
        "id": "m15IDgyKneUy",
        "outputId": "39ad238f-b431-45da-fefb-17268c199ea3"
      },
      "outputs": [
        {
          "name": "stdout",
          "output_type": "stream",
          "text": [
            "6\n"
          ]
        }
      ],
      "source": [
        "List = [1,2,3,4,5,6 , .5]\n",
        "\n",
        "List.sort()\n",
        "\n",
        "print(List[len(List) -1])"
      ]
    },
    {
      "cell_type": "markdown",
      "metadata": {
        "id": "nzZ8x-_2neUy"
      },
      "source": [
        "17.\tProgram to find second largest number in a list"
      ]
    },
    {
      "cell_type": "code",
      "execution_count": null,
      "metadata": {
        "id": "8xjGL976neUy",
        "outputId": "d55d6e61-0ef9-4aa0-da86-b188a39d0330"
      },
      "outputs": [
        {
          "name": "stdout",
          "output_type": "stream",
          "text": [
            "5\n"
          ]
        }
      ],
      "source": [
        "List = [1,2,3,4,5,6 , .5]\n",
        "\n",
        "List.sort(reverse= True)\n",
        "print(List[1])"
      ]
    },
    {
      "cell_type": "code",
      "execution_count": null,
      "metadata": {
        "id": "ars7T82DneUy",
        "outputId": "b3ed43aa-68cf-486c-b017-689837aad1a2"
      },
      "outputs": [
        {
          "name": "stdout",
          "output_type": "stream",
          "text": [
            "5\n"
          ]
        }
      ],
      "source": [
        "List = [1,2,3,4,5,6 , .5]\n",
        "\n",
        "List.sort()\n",
        "\n",
        "print(List[len(List) -2])"
      ]
    },
    {
      "cell_type": "markdown",
      "metadata": {
        "id": "XGQnj9WlneUz"
      },
      "source": [
        "18.\tProgram to print even numbers in a list"
      ]
    },
    {
      "cell_type": "code",
      "execution_count": null,
      "metadata": {
        "id": "yhIZRkIlneUz",
        "outputId": "831fe831-42ab-4cfe-ad77-ecd3ebcab963"
      },
      "outputs": [
        {
          "name": "stdout",
          "output_type": "stream",
          "text": [
            "2\n",
            "4\n",
            "6\n",
            "8\n"
          ]
        }
      ],
      "source": [
        "List = [ 1,2,3,4,5,6,7,8,9]\n",
        "\n",
        "for x in List :\n",
        "    if  x % 2 == 0 :\n",
        "        print(x)\n",
        "\n",
        "\n"
      ]
    },
    {
      "cell_type": "markdown",
      "metadata": {
        "id": "zjaTyXReneUz"
      },
      "source": [
        "19.\tProgram to print odd numbers in a List"
      ]
    },
    {
      "cell_type": "code",
      "execution_count": null,
      "metadata": {
        "id": "IVO1N6kkneUz",
        "outputId": "22ed5cc0-680b-4d40-85fb-13de17a5500b"
      },
      "outputs": [
        {
          "name": "stdout",
          "output_type": "stream",
          "text": [
            "1\n",
            "3\n",
            "5\n",
            "7\n",
            "9\n"
          ]
        }
      ],
      "source": [
        "List = [ 1,2,3,4,5,6,7,8,9]\n",
        "\n",
        "for x in List :\n",
        "    if  x % 2 != 0 :\n",
        "        print(x)\n"
      ]
    },
    {
      "cell_type": "markdown",
      "metadata": {
        "id": "VLO2LZ_IneU0"
      },
      "source": [
        "20.\tProgram to print all even numbers in a range"
      ]
    },
    {
      "cell_type": "code",
      "execution_count": null,
      "metadata": {
        "id": "-5ZHn3CVneU0",
        "outputId": "c1cd483a-808b-4155-8a97-3de34e1b0833"
      },
      "outputs": [
        {
          "name": "stdout",
          "output_type": "stream",
          "text": [
            "0\n",
            "2\n",
            "4\n",
            "6\n",
            "8\n",
            "10\n",
            "12\n",
            "14\n",
            "16\n",
            "18\n",
            "20\n",
            "22\n",
            "24\n",
            "26\n",
            "28\n",
            "30\n",
            "32\n",
            "34\n",
            "36\n",
            "38\n",
            "40\n",
            "42\n",
            "44\n"
          ]
        }
      ],
      "source": [
        "num = int(input('number'))\n",
        "\n",
        "for i in range(num):\n",
        "    if i %2 == 0 :\n",
        "        print(i)"
      ]
    },
    {
      "cell_type": "markdown",
      "metadata": {
        "id": "MFwX2vn9neU0"
      },
      "source": [
        "21.\tProgram to print all odd numbers in a range"
      ]
    },
    {
      "cell_type": "code",
      "execution_count": null,
      "metadata": {
        "id": "JpW-Ya1vneU1",
        "outputId": "85e1fa11-8b40-488a-8eea-843c3ffc7db0"
      },
      "outputs": [
        {
          "name": "stdout",
          "output_type": "stream",
          "text": [
            "1\n",
            "3\n",
            "5\n",
            "7\n"
          ]
        }
      ],
      "source": [
        "num = int(input('number'))\n",
        "\n",
        "for i in range(num):\n",
        "    if i %2 != 0 :\n",
        "        print(i)"
      ]
    },
    {
      "cell_type": "markdown",
      "metadata": {
        "id": "uQi0MC9rneU1"
      },
      "source": [
        "22.\tProgram to count Even and Odd numbers in a List"
      ]
    },
    {
      "cell_type": "code",
      "execution_count": null,
      "metadata": {
        "id": "jIMwmv4tneU1",
        "outputId": "97ce9e8b-9ce1-4ebe-c3a1-3414f7a1d304"
      },
      "outputs": [
        {
          "name": "stdout",
          "output_type": "stream",
          "text": [
            "even 23\n",
            "odd 22\n"
          ]
        }
      ],
      "source": [
        "num = int(input('number'))\n",
        "\n",
        "count = 0\n",
        "\n",
        "for i in range(num):\n",
        "    if i %2 == 0 :\n",
        "        count +=1\n",
        "print( \"even\" ,  count )\n",
        "print( \"odd\" ,  num-count )\n"
      ]
    },
    {
      "cell_type": "markdown",
      "metadata": {
        "id": "OTNT6CuHneU1"
      },
      "source": [
        "23.\tProgram to print positive numbers in a list"
      ]
    },
    {
      "cell_type": "code",
      "execution_count": null,
      "metadata": {
        "id": "yWU9lKMZneU2",
        "outputId": "e354928f-42c5-4d5f-97c7-1a08baa57458"
      },
      "outputs": [
        {
          "name": "stdout",
          "output_type": "stream",
          "text": [
            "1\n",
            "2\n",
            "3\n"
          ]
        }
      ],
      "source": [
        "List = [ 1,2,3,-1,-8,-5,-46]\n",
        "\n",
        "for i in List:\n",
        "    if i >0:\n",
        "        print(i)"
      ]
    },
    {
      "cell_type": "markdown",
      "metadata": {
        "id": "sjz-uPW3neU2"
      },
      "source": [
        "24.\tProgram to print negative numbers in a list"
      ]
    },
    {
      "cell_type": "code",
      "execution_count": null,
      "metadata": {
        "id": "Ap-uwl14neU2",
        "outputId": "86278d87-5193-4530-82f0-5fa7f2e761d0"
      },
      "outputs": [
        {
          "name": "stdout",
          "output_type": "stream",
          "text": [
            "-1\n",
            "-8\n",
            "-5\n",
            "-46\n"
          ]
        }
      ],
      "source": [
        "List = [ 1,2,3,-1,-8,-5,-46]\n",
        "\n",
        "for i in List:\n",
        "    if i <0:\n",
        "        print(i)"
      ]
    },
    {
      "cell_type": "markdown",
      "metadata": {
        "id": "a-IklNmBneU3"
      },
      "source": [
        "25.\tProgram to print all positive numbers in a range"
      ]
    },
    {
      "cell_type": "code",
      "execution_count": null,
      "metadata": {
        "id": "QnAF_1xaneU3",
        "outputId": "55f999fc-cb48-4bca-8570-8b6434c01252"
      },
      "outputs": [
        {
          "ename": "TypeError",
          "evalue": "'int' object is not iterable",
          "output_type": "error",
          "traceback": [
            "\u001b[1;31m---------------------------------------------------------------------------\u001b[0m",
            "\u001b[1;31mTypeError\u001b[0m                                 Traceback (most recent call last)",
            "Cell \u001b[1;32mIn[1], line 3\u001b[0m\n\u001b[0;32m      1\u001b[0m num \u001b[38;5;241m=\u001b[39m \u001b[38;5;28mint\u001b[39m(\u001b[38;5;28minput\u001b[39m(\u001b[38;5;124m'\u001b[39m\u001b[38;5;124mnumber\u001b[39m\u001b[38;5;124m'\u001b[39m))\n\u001b[1;32m----> 3\u001b[0m \u001b[38;5;28;01mfor\u001b[39;00m i \u001b[38;5;129;01min\u001b[39;00m num:\n\u001b[0;32m      4\u001b[0m     \u001b[38;5;28;01mif\u001b[39;00m i \u001b[38;5;241m>\u001b[39m\u001b[38;5;241m0\u001b[39m:\n\u001b[0;32m      5\u001b[0m         \u001b[38;5;28mprint\u001b[39m(i)\n",
            "\u001b[1;31mTypeError\u001b[0m: 'int' object is not iterable"
          ]
        }
      ],
      "source": [
        "num = int(input('number'))\n",
        "\n",
        "for i in num:\n",
        "    if i >0:\n",
        "        print(i)"
      ]
    },
    {
      "cell_type": "markdown",
      "metadata": {
        "id": "o8u7D9sDneU3"
      },
      "source": [
        "26.\tProgram to print all negative numbers in a range"
      ]
    },
    {
      "cell_type": "code",
      "execution_count": null,
      "metadata": {
        "id": "a2k5y8EZneU3",
        "outputId": "c47dbc78-5565-4670-c530-01f0a0b18185"
      },
      "outputs": [
        {
          "name": "stdout",
          "output_type": "stream",
          "text": [
            "-10 -9 -8 -7 -6 -5 -4 -3 -2 -1 "
          ]
        }
      ],
      "source": [
        "for i in range(-10,10):\n",
        "    if i <0:\n",
        "        print(i, end=\" \")"
      ]
    },
    {
      "cell_type": "markdown",
      "metadata": {
        "id": "_M0o-tlCneU3"
      },
      "source": [
        "27.\tProgram to count positive and negative numbers in a list"
      ]
    },
    {
      "cell_type": "code",
      "execution_count": null,
      "metadata": {
        "id": "pBJL2lODneU4",
        "outputId": "df1baa52-6f7f-4654-fad7-962ef75ff760"
      },
      "outputs": [
        {
          "name": "stdout",
          "output_type": "stream",
          "text": [
            "posstive 3\n",
            "negtive  4\n"
          ]
        }
      ],
      "source": [
        "List = [ 1,2,3,-1,-8,-5,-46]\n",
        "\n",
        "count = 0\n",
        "\n",
        "for i in List:\n",
        "    if i >0:\n",
        "        count+=1\n",
        "\n",
        "print('posstive', count)\n",
        "print('negtive ' , len(List)-count)"
      ]
    },
    {
      "cell_type": "markdown",
      "metadata": {
        "id": "DmRhwluxneU4"
      },
      "source": [
        "28.\tRemove multiple elements from a list in Python"
      ]
    },
    {
      "cell_type": "code",
      "execution_count": null,
      "metadata": {
        "id": "Jo7EItAqneU4",
        "outputId": "7434faf9-4b4c-4a0e-9b72-a37f4e6cc87c"
      },
      "outputs": [
        {
          "name": "stdout",
          "output_type": "stream",
          "text": [
            "[1, 3, -1, -8, -5, -46]\n",
            "[1, -1, -8, -5, -46]\n",
            "[-1, -8, -5, -46]\n",
            "[-8, -5, -46]\n"
          ]
        }
      ],
      "source": [
        "List = [ 1,2,3,-1,-8,-5,-46]\n",
        "\n",
        "st =( \" \")\n",
        "while st !='exit':\n",
        "    st =  input(\" 'exit' to quit: 1 to continune \")\n",
        "    if st == 'exit':\n",
        "        break\n",
        "    else:\n",
        "        List.remove(int(st))\n",
        "        print(List)\n",
        "\n"
      ]
    },
    {
      "cell_type": "markdown",
      "metadata": {
        "id": "YFRQ3obnneU4"
      },
      "source": [
        "29.\tRemove empty tuples from a list"
      ]
    },
    {
      "cell_type": "code",
      "execution_count": null,
      "metadata": {
        "id": "g4IhaAoAneU4",
        "outputId": "554508e5-c440-47b2-9db8-b7ddc81c1a94"
      },
      "outputs": [
        {
          "name": "stdout",
          "output_type": "stream",
          "text": [
            "[('nitin', 2, 3, 32, 232), ('khushi', 434, 324324, 23, 43), ('sunny', 2334, 'nihal'), ('suneet', 'paul'), 343]\n"
          ]
        }
      ],
      "source": [
        "List=[('nitin',2,3,32,232),(), ('khushi',434,324324,23,43),(),('sunny',2334,'nihal'), (),('suneet', 'paul'),(),(343)]\n",
        "for i in List:\n",
        "    if (i==()):\n",
        "      List.remove(i)\n",
        "print(List)"
      ]
    },
    {
      "cell_type": "markdown",
      "metadata": {
        "id": "1L_KKkouneU5"
      },
      "source": [
        "30.\tProgram to print duplicates from a list of integers"
      ]
    },
    {
      "cell_type": "code",
      "execution_count": null,
      "metadata": {
        "id": "G3SZHykyneU5"
      },
      "outputs": [],
      "source": []
    }
  ],
  "metadata": {
    "kernelspec": {
      "display_name": "base",
      "language": "python",
      "name": "python3"
    },
    "language_info": {
      "codemirror_mode": {
        "name": "ipython",
        "version": 3
      },
      "file_extension": ".py",
      "mimetype": "text/x-python",
      "name": "python",
      "nbconvert_exporter": "python",
      "pygments_lexer": "ipython3",
      "version": "3.12.4"
    },
    "colab": {
      "provenance": []
    }
  },
  "nbformat": 4,
  "nbformat_minor": 0
}
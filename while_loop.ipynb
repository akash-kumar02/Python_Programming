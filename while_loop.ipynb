{
  "nbformat": 4,
  "nbformat_minor": 0,
  "metadata": {
    "colab": {
      "provenance": []
    },
    "kernelspec": {
      "name": "python3",
      "display_name": "Python 3"
    },
    "language_info": {
      "name": "python"
    }
  },
  "cells": [
    {
      "cell_type": "code",
      "source": [
        "# 1.for sum of number 1 to 100\n",
        "num=1\n",
        "totel=0\n",
        "while num <=100:\n",
        "  totel+=num\n",
        "  num+=1\n",
        "print(\"sum:\",totel)"
      ],
      "metadata": {
        "colab": {
          "base_uri": "https://localhost:8080/"
        },
        "id": "Z3ORH34sSvGW",
        "outputId": "ec2ba90e-ea77-45ba-da3a-179984fffc45"
      },
      "execution_count": 6,
      "outputs": [
        {
          "output_type": "stream",
          "name": "stdout",
          "text": [
            "sum: 5050\n"
          ]
        }
      ]
    },
    {
      "cell_type": "code",
      "source": [
        "# 2. WAP to find revers of a number\n",
        "num=int(input(\"enter any number\"))\n",
        "rev=0\n",
        "while(num>0):\n",
        "  rev=(rev*10)+num%10\n",
        "  num=num//10\n",
        "print(\"revers of a given number is:\",rev)\n"
      ],
      "metadata": {
        "colab": {
          "base_uri": "https://localhost:8080/"
        },
        "id": "LEzbH5qbSu2Q",
        "outputId": "90bf8181-6720-4606-a5bb-f5fdf3fc4d0a"
      },
      "execution_count": 7,
      "outputs": [
        {
          "output_type": "stream",
          "name": "stdout",
          "text": [
            "enter any number45\n",
            "revers of a given number is: 54\n"
          ]
        }
      ]
    },
    {
      "cell_type": "code",
      "source": [
        " # 3. print even number 1 to 20\n",
        "number = 2\n",
        "while number <=20:\n",
        "  print(number)\n",
        "  number+=2"
      ],
      "metadata": {
        "colab": {
          "base_uri": "https://localhost:8080/"
        },
        "id": "_N3aIu-hS5Vm",
        "outputId": "7f1a395a-7bb9-4a81-8e5d-69e2ed5bd704"
      },
      "execution_count": 8,
      "outputs": [
        {
          "output_type": "stream",
          "name": "stdout",
          "text": [
            "2\n",
            "4\n",
            "6\n",
            "8\n",
            "10\n",
            "12\n",
            "14\n",
            "16\n",
            "18\n",
            "20\n"
          ]
        }
      ]
    },
    {
      "cell_type": "code",
      "execution_count": 5,
      "metadata": {
        "colab": {
          "base_uri": "https://localhost:8080/"
        },
        "id": "48D7ZI2dSe4M",
        "outputId": "6e184d79-7d39-4790-ff78-5229fbde2714"
      },
      "outputs": [
        {
          "output_type": "stream",
          "name": "stdout",
          "text": [
            "10\n"
          ]
        }
      ],
      "source": [
        "# 4. calculate the sum of digit in variable using while loop\n",
        "\n",
        "n = 451\n",
        "sum= 0\n",
        "\n",
        "while n>0:\n",
        "  r=n%10\n",
        "  sum+=r\n",
        "  n= n//10\n",
        "print(sum)\n"
      ]
    },
    {
      "cell_type": "code",
      "source": [
        "#  5. for smallest number in list\n",
        "numbers = [10,4,3,5,7,9]\n",
        "smallest=numbers[0]\n",
        "\n",
        "for num in numbers:\n",
        "  if num < smallest:\n",
        "    smallest=num\n",
        "print(\"smallest number:\",smallest)"
      ],
      "metadata": {
        "colab": {
          "base_uri": "https://localhost:8080/"
        },
        "id": "RtyM1ztaTBfT",
        "outputId": "0c9dbe08-2382-4b5b-fc69-649962c15d90"
      },
      "execution_count": 9,
      "outputs": [
        {
          "output_type": "stream",
          "name": "stdout",
          "text": [
            "smallest number: 3\n"
          ]
        }
      ]
    },
    {
      "cell_type": "code",
      "source": [
        "#  6. for largest number in a list\n",
        "numbers=[43,76,65,56,98]\n",
        "largest=numbers[0]\n",
        "\n",
        "for num in numbers:\n",
        "  if  num > largest:\n",
        "    largest=num\n",
        "print(\"largest number:\",largest)"
      ],
      "metadata": {
        "colab": {
          "base_uri": "https://localhost:8080/"
        },
        "id": "_I5T0NKvTCHk",
        "outputId": "a93b73f7-6cc8-4d38-cebf-0595a7a88f64"
      },
      "execution_count": 10,
      "outputs": [
        {
          "output_type": "stream",
          "name": "stdout",
          "text": [
            "largest number: 98\n"
          ]
        }
      ]
    },
    {
      "cell_type": "code",
      "source": [],
      "metadata": {
        "id": "stbYYyKbTGAX"
      },
      "execution_count": null,
      "outputs": []
    }
  ]
}
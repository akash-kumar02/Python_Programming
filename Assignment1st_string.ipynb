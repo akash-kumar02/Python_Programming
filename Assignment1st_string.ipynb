{
  "cells": [
    {
      "cell_type": "code",
      "execution_count": null,
      "id": "8037d8ce-4d56-474f-8108-bdcef4ddc54f",
      "metadata": {
        "id": "8037d8ce-4d56-474f-8108-bdcef4ddc54f"
      },
      "outputs": [],
      "source": [
        "#1st. Program to check whether the string is Symmetrical or Palindrome"
      ]
    },
    {
      "cell_type": "code",
      "execution_count": null,
      "id": "629fdae9-9fd9-4ec0-821f-8736b2409223",
      "metadata": {
        "id": "629fdae9-9fd9-4ec0-821f-8736b2409223",
        "outputId": "0d67d5b2-52bb-467a-d22f-298b1882cd98",
        "colab": {
          "base_uri": "https://localhost:8080/"
        }
      },
      "outputs": [
        {
          "output_type": "stream",
          "name": "stdout",
          "text": [
            "motu is a symetrical\n"
          ]
        }
      ],
      "source": [
        "#1st answer\n",
        "x = 'motu'\n",
        "z = ''\n",
        "for i in x:\n",
        "  z = i + z\n",
        "if(x == z ):\n",
        "     print(x,\"is a palindrome\")\n",
        "else:\n",
        "     print(x,\"is a symetrical\")"
      ]
    },
    {
      "cell_type": "code",
      "execution_count": null,
      "id": "b405f9f9-5000-49d2-8e15-1779fae199c9",
      "metadata": {
        "id": "b405f9f9-5000-49d2-8e15-1779fae199c9"
      },
      "outputs": [],
      "source": [
        "#2nd. Reverse words in a given String in Python"
      ]
    },
    {
      "cell_type": "code",
      "execution_count": null,
      "id": "74d73a71-c652-403a-8ed2-95fbff0c2ddd",
      "metadata": {
        "id": "74d73a71-c652-403a-8ed2-95fbff0c2ddd",
        "outputId": "13679f50-ae2e-438c-9f02-58e61c4ad222",
        "colab": {
          "base_uri": "https://localhost:8080/"
        }
      },
      "outputs": [
        {
          "output_type": "stream",
          "name": "stdout",
          "text": [
            "otom olleH\n"
          ]
        }
      ],
      "source": [
        "#2nd answer\n",
        "x=\"Hello moto\"\n",
        "z=''\n",
        "for i in x:\n",
        "  z=i+z\n",
        "print(z)"
      ]
    },
    {
      "cell_type": "code",
      "execution_count": null,
      "id": "9ff38733-e5a4-47e5-b251-cadbb9cfe476",
      "metadata": {
        "id": "9ff38733-e5a4-47e5-b251-cadbb9cfe476"
      },
      "outputs": [],
      "source": [
        "#3rd. Ways to remove i’th character from string in Python"
      ]
    },
    {
      "cell_type": "code",
      "execution_count": null,
      "id": "ae5bd202-059d-4128-8c74-ea172bc8a84e",
      "metadata": {
        "id": "ae5bd202-059d-4128-8c74-ea172bc8a84e",
        "outputId": "90dff30f-7df3-4adc-bd22-6d4ddae949f1"
      },
      "outputs": [
        {
          "name": "stdin",
          "output_type": "stream",
          "text": [
            "enter a number 3\n"
          ]
        },
        {
          "name": "stdout",
          "output_type": "stream",
          "text": [
            "Helo World\n"
          ]
        }
      ],
      "source": [
        "#3rd answer\n",
        "s = \"Hello World\"\n",
        "i = int(input(\"enter a number\"))\n",
        "result = s[:i] + s[i+1:]\n",
        "print(result)"
      ]
    },
    {
      "cell_type": "code",
      "execution_count": null,
      "id": "0e3b5f28-ebe2-47ee-951b-3ec5db6e61dc",
      "metadata": {
        "id": "0e3b5f28-ebe2-47ee-951b-3ec5db6e61dc"
      },
      "outputs": [],
      "source": [
        "#4th. Find length of a string in python (4 ways)"
      ]
    },
    {
      "cell_type": "code",
      "execution_count": null,
      "id": "e301aaeb-9aa5-48c8-85bc-bc7dc98fb673",
      "metadata": {
        "id": "e301aaeb-9aa5-48c8-85bc-bc7dc98fb673",
        "outputId": "251d9522-1d77-4d37-c6cb-e7e180570cf5"
      },
      "outputs": [
        {
          "name": "stdout",
          "output_type": "stream",
          "text": [
            "17\n",
            "8\n",
            "6\n",
            "5\n"
          ]
        }
      ],
      "source": [
        "#4th answer\n",
        "#1st way\n",
        "x = \"Hello Armwrestler\"\n",
        "print(len(x))\n",
        "#2nd way\n",
        "x= \"Hello Mr\"\n",
        "z = len(x)\n",
        "print(z)\n",
        "#3rd way\n",
        "x = \"Hello\"\n",
        "l=x.count(\"\")\n",
        "print(l)\n",
        "#4th way\n",
        "x = \"Hello\"\n",
        "y = 0\n",
        "for i in x:\n",
        "    y += 1\n",
        "print(y)"
      ]
    },
    {
      "cell_type": "code",
      "execution_count": null,
      "id": "43afc611-ebc4-4fad-beb0-4273b9fa75ed",
      "metadata": {
        "id": "43afc611-ebc4-4fad-beb0-4273b9fa75ed"
      },
      "outputs": [],
      "source": [
        "#5th. Avoid Spaces in string length"
      ]
    },
    {
      "cell_type": "code",
      "execution_count": null,
      "id": "b483f3f8-fe39-463b-b88d-862074054d2c",
      "metadata": {
        "id": "b483f3f8-fe39-463b-b88d-862074054d2c",
        "outputId": "67025460-231a-4c60-e7d0-cea6a535accc"
      },
      "outputs": [
        {
          "data": {
            "text/plain": [
              "'hello world'"
            ]
          },
          "execution_count": 5,
          "metadata": {},
          "output_type": "execute_result"
        }
      ],
      "source": [
        "#5th answer\n",
        "x= '   hello world   '\n",
        "x.strip()"
      ]
    },
    {
      "cell_type": "code",
      "execution_count": null,
      "id": "c250357b-fa6d-4ace-9278-10f23e7eb3d7",
      "metadata": {
        "id": "c250357b-fa6d-4ace-9278-10f23e7eb3d7"
      },
      "outputs": [],
      "source": [
        "#6th. Python program to print even length words in a string"
      ]
    },
    {
      "cell_type": "code",
      "execution_count": null,
      "id": "9d78e714-20d8-4654-bfe1-de7f6f4e4604",
      "metadata": {
        "id": "9d78e714-20d8-4654-bfe1-de7f6f4e4604",
        "outputId": "90ba92e0-9760-4530-87c4-0dd76cfbcf8b"
      },
      "outputs": [
        {
          "name": "stdout",
          "output_type": "stream",
          "text": [
            "Is\n",
            "this\n",
            "answer\n",
            "assignment\n"
          ]
        }
      ],
      "source": [
        "#6th answer\n",
        "x=\"Is this a answer for assignment\"\n",
        "y=x.split(\" \")\n",
        "for i in y:\n",
        "    if len(i)%2==0:\n",
        "        print(i)"
      ]
    },
    {
      "cell_type": "code",
      "execution_count": null,
      "id": "47e4a391-e1d9-4a44-8c67-b0fb62da20b6",
      "metadata": {
        "id": "47e4a391-e1d9-4a44-8c67-b0fb62da20b6"
      },
      "outputs": [],
      "source": [
        "#7th.  Uppercase Half String|"
      ]
    },
    {
      "cell_type": "code",
      "execution_count": null,
      "id": "b70a624f-2e2d-42cc-acba-91ee96d70bcf",
      "metadata": {
        "id": "b70a624f-2e2d-42cc-acba-91ee96d70bcf",
        "outputId": "84d88db3-f17f-4501-b866-d98480158b0a"
      },
      "outputs": [
        {
          "name": "stdout",
          "output_type": "stream",
          "text": [
            "The string is: Hello ArMWRESTLER\n"
          ]
        }
      ],
      "source": [
        "#7th answer\n",
        "x = 'Hello Armwrestler'\n",
        "y = len(x) // 2\n",
        "z = x[:y] + x[y:].upper()\n",
        "print(\"The string is:\",z)"
      ]
    },
    {
      "cell_type": "code",
      "execution_count": null,
      "id": "3ca15a38-d98e-4eb2-86c3-ecda37bf3dff",
      "metadata": {
        "id": "3ca15a38-d98e-4eb2-86c3-ecda37bf3dff"
      },
      "outputs": [],
      "source": [
        "#8th. Python program to capitalize the first and last character of each word in a string"
      ]
    },
    {
      "cell_type": "code",
      "execution_count": null,
      "id": "666bcaee-b0e0-4492-9483-a339a85d8f81",
      "metadata": {
        "id": "666bcaee-b0e0-4492-9483-a339a85d8f81",
        "outputId": "d06f5b43-0424-48fa-a112-43c22489e455"
      },
      "outputs": [
        {
          "name": "stdout",
          "output_type": "stream",
          "text": [
            "Hello World\n"
          ]
        }
      ],
      "source": [
        "#8th answer\n",
        "x= ('hello world')\n",
        "print(x.title())"
      ]
    },
    {
      "cell_type": "code",
      "execution_count": null,
      "id": "6f50f2d5-3482-4e8b-b30f-ce3be717267e",
      "metadata": {
        "id": "6f50f2d5-3482-4e8b-b30f-ce3be717267e"
      },
      "outputs": [],
      "source": [
        "#9th. Program to capitalize the first and last character of each word in a string"
      ]
    },
    {
      "cell_type": "code",
      "execution_count": null,
      "id": "4d5b9275-4bf5-495a-9d25-286b9089493a",
      "metadata": {
        "id": "4d5b9275-4bf5-495a-9d25-286b9089493a",
        "outputId": "566a2168-a5cc-404a-a6ea-9e97b42d035b"
      },
      "outputs": [
        {
          "name": "stdout",
          "output_type": "stream",
          "text": [
            "The string is: Hello ArmwrestleR\n"
          ]
        }
      ],
      "source": [
        "#9th answer\n",
        "x = 'hello Armwrestler'\n",
        "z = x[0].upper()+x[1:-1] + x[-1].upper()\n",
        "print(\"The string is:\",z)"
      ]
    },
    {
      "cell_type": "code",
      "execution_count": null,
      "id": "3f833ae8-2104-478e-8891-3066b787db6f",
      "metadata": {
        "id": "3f833ae8-2104-478e-8891-3066b787db6f"
      },
      "outputs": [],
      "source": [
        "#10th. Python program to check if a string has at least one letter and one number"
      ]
    },
    {
      "cell_type": "code",
      "execution_count": null,
      "id": "d8beb64e-5257-4d5f-8e17-1d25e4c402f1",
      "metadata": {
        "id": "d8beb64e-5257-4d5f-8e17-1d25e4c402f1",
        "outputId": "6f35200e-dd71-44cc-ffd4-0683dbd3b7bc"
      },
      "outputs": [
        {
          "name": "stdout",
          "output_type": "stream",
          "text": [
            "no\n"
          ]
        }
      ],
      "source": [
        "#10th answer\n",
        "x=\"tokkyomanji2\"\n",
        "if (i.isalpha() and i.isdigit() ):\n",
        "    print(\"yes\")\n",
        "else:\n",
        "    print(\"no\")"
      ]
    },
    {
      "cell_type": "code",
      "execution_count": null,
      "id": "9598217b-d7c5-498a-89f7-20641867e229",
      "metadata": {
        "id": "9598217b-d7c5-498a-89f7-20641867e229"
      },
      "outputs": [],
      "source": [
        "#11th. Program to accept the strings which contains all vowels"
      ]
    },
    {
      "cell_type": "code",
      "execution_count": null,
      "id": "7a639dcd-8345-4245-b4c9-0775a8fa3e06",
      "metadata": {
        "id": "7a639dcd-8345-4245-b4c9-0775a8fa3e06",
        "outputId": "cfd3162e-4c31-4658-a001-fd477248d84d"
      },
      "outputs": [
        {
          "name": "stdout",
          "output_type": "stream",
          "text": [
            "no\n"
          ]
        }
      ],
      "source": [
        "#11th answer\n",
        "x=\"aseahil\"\n",
        "y= [x.count('a'),x.count('e'),x.count('i'),x.count('o'),x.count('u')]\n",
        "if y.count(0) >0:\n",
        "    print(\"no\")\n",
        "else:\n",
        "    print(\"yes\")"
      ]
    },
    {
      "cell_type": "code",
      "execution_count": null,
      "id": "af1124ac-e3c4-4432-88f7-df808321f80a",
      "metadata": {
        "id": "af1124ac-e3c4-4432-88f7-df808321f80a"
      },
      "outputs": [],
      "source": [
        "#12th. Count the Number of matching characters in a pair of string"
      ]
    },
    {
      "cell_type": "code",
      "execution_count": null,
      "id": "f4fbb23b-89d3-47ca-98f0-cfc88928270b",
      "metadata": {
        "id": "f4fbb23b-89d3-47ca-98f0-cfc88928270b",
        "outputId": "ad6a2ef7-2b10-4511-9811-0239428cf858"
      },
      "outputs": [
        {
          "name": "stdout",
          "output_type": "stream",
          "text": [
            "4\n"
          ]
        }
      ],
      "source": [
        "#12th naswer\n",
        "str1 = \"Herlo\"\n",
        "str2 = \"Worle\"\n",
        "common_chars = set(str1) & set(str2)\n",
        "z = sum(min(str1.count(char), str2.count(char)) for char in common_chars)\n",
        "print(z)"
      ]
    },
    {
      "cell_type": "code",
      "execution_count": null,
      "id": "94784723-ae0f-4a11-9f91-e85981f4d4d9",
      "metadata": {
        "id": "94784723-ae0f-4a11-9f91-e85981f4d4d9"
      },
      "outputs": [],
      "source": [
        "#13th. Program to count number of vowels using sets in given string"
      ]
    },
    {
      "cell_type": "code",
      "execution_count": null,
      "id": "7e7a1508-2324-407e-a892-f31f2dfc3afa",
      "metadata": {
        "id": "7e7a1508-2324-407e-a892-f31f2dfc3afa",
        "outputId": "cf36a235-3037-4304-8d22-65b662dd57c5"
      },
      "outputs": [
        {
          "name": "stdout",
          "output_type": "stream",
          "text": [
            "3\n"
          ]
        }
      ],
      "source": [
        "#13th answer\n",
        "x=\"bvaikerbbr\"\n",
        "y=set(\"aeiou\")\n",
        "count=0\n",
        "for i  in x:\n",
        "    if i in y:\n",
        "        count+=1\n",
        "print(count)"
      ]
    },
    {
      "cell_type": "code",
      "execution_count": null,
      "id": "2cf36564-49fa-43a8-8608-a93e2e356724",
      "metadata": {
        "id": "2cf36564-49fa-43a8-8608-a93e2e356724"
      },
      "outputs": [],
      "source": [
        "#14th. Program to remove all duplicates from a given string"
      ]
    },
    {
      "cell_type": "code",
      "execution_count": null,
      "id": "7774dbec-2421-4f95-a6dd-1cfb27efedbd",
      "metadata": {
        "id": "7774dbec-2421-4f95-a6dd-1cfb27efedbd",
        "outputId": "c107a3ce-47f3-405e-d0e8-1cc7bac4e52f"
      },
      "outputs": [
        {
          "name": "stdout",
          "output_type": "stream",
          "text": [
            "[1, 2, 5, 9]\n"
          ]
        }
      ],
      "source": [
        "#14th answer\n",
        "x= [1, 2, 1, 2, 3, 4, 5, 1, 1, 2, 5, 6, 7, 8, 9, 9]\n",
        "y= []\n",
        "z = []\n",
        "for i in x:\n",
        "    if i not in y:\n",
        "        y.append(i)\n",
        "    elif i not in z:     #kyuki list same elemts ko ek hi manta hai\n",
        "        z.append(i)\n",
        "print(z)"
      ]
    },
    {
      "cell_type": "code",
      "execution_count": null,
      "id": "7247f99f-faed-47ed-a24c-1ac58a073e6d",
      "metadata": {
        "id": "7247f99f-faed-47ed-a24c-1ac58a073e6d"
      },
      "outputs": [],
      "source": [
        "#15th.Least Frequent Character in String"
      ]
    },
    {
      "cell_type": "code",
      "execution_count": null,
      "id": "35299d63-bb54-4d48-8dc2-418d390e32f8",
      "metadata": {
        "id": "35299d63-bb54-4d48-8dc2-418d390e32f8",
        "outputId": "6be21774-9129-4a88-915b-aa843c307ccc"
      },
      "outputs": [
        {
          "name": "stdout",
          "output_type": "stream",
          "text": [
            "Least frequent character: H\n"
          ]
        }
      ],
      "source": [
        "x = \"llo World\"\n",
        "y = input_string[0]\n",
        "z = input_string.count(y)\n",
        "for i in set(x):\n",
        "    c = x.count(i)\n",
        "    if c< z:\n",
        "        z= c\n",
        "        y =i\n",
        "print(\"Least frequent character:\", y)"
      ]
    },
    {
      "cell_type": "code",
      "execution_count": null,
      "id": "f703b9af-41b3-4fcf-bea6-34cba0c02255",
      "metadata": {
        "id": "f703b9af-41b3-4fcf-bea6-34cba0c02255"
      },
      "outputs": [],
      "source": [
        "#16th. Maximum frequency character in String"
      ]
    },
    {
      "cell_type": "code",
      "execution_count": null,
      "id": "84d5ef5c-7dd1-47f4-b7a7-4dfb54335afc",
      "metadata": {
        "id": "84d5ef5c-7dd1-47f4-b7a7-4dfb54335afc",
        "outputId": "b2e7213b-06fc-4aca-f55b-e1db68a9dafb"
      },
      "outputs": [
        {
          "name": "stdout",
          "output_type": "stream",
          "text": [
            "Most frequent character: e\n"
          ]
        }
      ],
      "source": [
        "#16th answer\n",
        "x = \"hoello Armwrestler\"\n",
        "y = x[0]\n",
        "z = x.count(y)\n",
        "for i in set(x):\n",
        "    c = x.count(i)\n",
        "    if c> z:\n",
        "        z= c\n",
        "        y =i\n",
        "print(\"Most frequent character:\", y)"
      ]
    },
    {
      "cell_type": "code",
      "execution_count": null,
      "id": "f375d9e5-5ff5-4bf0-84f5-b05e325c966c",
      "metadata": {
        "id": "f375d9e5-5ff5-4bf0-84f5-b05e325c966c"
      },
      "outputs": [],
      "source": [
        "#17th.Odd Frequency Characters"
      ]
    },
    {
      "cell_type": "code",
      "execution_count": null,
      "id": "28eabc77-d04f-4a17-a3bb-3e34d51b7f1d",
      "metadata": {
        "id": "28eabc77-d04f-4a17-a3bb-3e34d51b7f1d",
        "outputId": "7a37cbab-84d3-4bb8-bdde-84a834163f8d"
      },
      "outputs": [
        {
          "name": "stdout",
          "output_type": "stream",
          "text": [
            "odd frequency ['H', 'W', 'e', 'r', 'd', ' ', 'l']\n"
          ]
        }
      ],
      "source": [
        "#17th answer\n",
        "x = \"Hello World\"\n",
        "y = []\n",
        "for i in set(x):\n",
        "    z = x.count(i)\n",
        "    if z % 2 != 0:\n",
        "        y.append(i)\n",
        "print(\"odd frequency\", y)"
      ]
    },
    {
      "cell_type": "code",
      "execution_count": null,
      "id": "e3d17ff5-2236-41e1-898a-0a147be3666d",
      "metadata": {
        "id": "e3d17ff5-2236-41e1-898a-0a147be3666d"
      },
      "outputs": [],
      "source": [
        "#18th. Specific Characters Frequency in String List"
      ]
    },
    {
      "cell_type": "code",
      "execution_count": null,
      "id": "fc4e8eb6-026e-45e6-8e4c-0db35940492d",
      "metadata": {
        "id": "fc4e8eb6-026e-45e6-8e4c-0db35940492d",
        "outputId": "f96d0fbf-c900-48a0-8a5d-c02250d74d6f"
      },
      "outputs": [
        {
          "name": "stdout",
          "output_type": "stream",
          "text": [
            "Input characters frequency :  {'e': 8, 'i': 4, 'a': 6}\n"
          ]
        }
      ],
      "source": [
        "#18th answer\n",
        "x = [\"Whatever it takes no matter give your fulll and rest do nothing eat five star.\"]\n",
        "y = ['e', 'i', 'a']\n",
        "d=dict()\n",
        "for i in y:\n",
        "\td[i]=x[0].count(i)\n",
        "z=d\n",
        "print(\"Input characters frequency : \", (z))"
      ]
    },
    {
      "cell_type": "code",
      "execution_count": null,
      "id": "378be0be-f2b3-4d8e-ab7f-7c1c0aa950fc",
      "metadata": {
        "id": "378be0be-f2b3-4d8e-ab7f-7c1c0aa950fc"
      },
      "outputs": [],
      "source": [
        "#19th. Frequency of numbers in String"
      ]
    },
    {
      "cell_type": "code",
      "execution_count": null,
      "id": "ae803e02-94c0-4225-a2d9-ecf975d2d733",
      "metadata": {
        "id": "ae803e02-94c0-4225-a2d9-ecf975d2d733",
        "outputId": "31b87170-871d-464a-90f1-18b5abe480f1"
      },
      "outputs": [
        {
          "name": "stdout",
          "output_type": "stream",
          "text": [
            "3\n"
          ]
        }
      ],
      "source": [
        "#19thanswer\n",
        "x=\"Whats'sup huh sahiluk97 is this you aw3some\"\n",
        "y=0\n",
        "for i in x:\n",
        "    if i.isdigit():\n",
        "      y+=1\n",
        "print(y)"
      ]
    },
    {
      "cell_type": "code",
      "execution_count": null,
      "id": "96160b56-2750-40eb-94c3-41bb8e34c050",
      "metadata": {
        "id": "96160b56-2750-40eb-94c3-41bb8e34c050"
      },
      "outputs": [],
      "source": [
        "#20th. Program to check if a string contains any special character"
      ]
    },
    {
      "cell_type": "code",
      "execution_count": null,
      "id": "8d49e4be-e738-4def-b61b-b86c7049f5e1",
      "metadata": {
        "id": "8d49e4be-e738-4def-b61b-b86c7049f5e1",
        "outputId": "15c3945b-de3f-4501-9877-d97efc53c221"
      },
      "outputs": [
        {
          "name": "stdout",
          "output_type": "stream",
          "text": [
            "special characters.\n"
          ]
        }
      ],
      "source": [
        "#20th answer\n",
        "x= \"$Hello@World\"\n",
        "if not x.isalnum():\n",
        "    print(\"special characters.\")\n",
        "else:\n",
        "    print(\"not special characters.\")"
      ]
    },
    {
      "cell_type": "code",
      "execution_count": null,
      "id": "1849308b-4f27-427f-8756-b25d304dab03",
      "metadata": {
        "id": "1849308b-4f27-427f-8756-b25d304dab03"
      },
      "outputs": [],
      "source": [
        "#21st. Generating random strings until a given string is generated"
      ]
    },
    {
      "cell_type": "code",
      "execution_count": null,
      "id": "4b468877-4b0a-43c7-bae9-d4dd7efeee6d",
      "metadata": {
        "id": "4b468877-4b0a-43c7-bae9-d4dd7efeee6d"
      },
      "outputs": [],
      "source": [
        "#21st answer\n",
        "#x=\"32,23,23\"\n",
        "#count=0\n",
        "#for i in x:"
      ]
    },
    {
      "cell_type": "code",
      "execution_count": null,
      "id": "b2ef431b-85e5-4092-838e-62476811ed66",
      "metadata": {
        "id": "b2ef431b-85e5-4092-838e-62476811ed66"
      },
      "outputs": [],
      "source": [
        "#22nd. Find words which are greater than given length k"
      ]
    },
    {
      "cell_type": "code",
      "execution_count": null,
      "id": "9b5f6f1f-de96-4ee9-9a5b-5b90d0c9b567",
      "metadata": {
        "id": "9b5f6f1f-de96-4ee9-9a5b-5b90d0c9b567",
        "outputId": "9f0e518d-150c-4a95-b67b-bca9551e6331"
      },
      "outputs": [
        {
          "name": "stdout",
          "output_type": "stream",
          "text": [
            "['Hello', \"what'sup\"]\n"
          ]
        }
      ],
      "source": [
        "#22nd answer\n",
        "x = \"Hello guys what'sup\"\n",
        "y= 4\n",
        "print([z for z in x.split() if len(z) > y])"
      ]
    },
    {
      "cell_type": "code",
      "execution_count": null,
      "id": "d71dcee3-61b4-4322-9cc2-8e5a822c1735",
      "metadata": {
        "id": "d71dcee3-61b4-4322-9cc2-8e5a822c1735"
      },
      "outputs": [],
      "source": [
        "#23rd. Program for removing i-th character from a string"
      ]
    },
    {
      "cell_type": "code",
      "execution_count": null,
      "id": "f1da6d7c-59c0-48b0-a238-d901ed05d236",
      "metadata": {
        "id": "f1da6d7c-59c0-48b0-a238-d901ed05d236",
        "outputId": "89062055-024c-4120-cd17-f16418f7a380"
      },
      "outputs": [
        {
          "name": "stdout",
          "output_type": "stream",
          "text": [
            "Good Morining sir \n"
          ]
        }
      ],
      "source": [
        "#23rd answer\n",
        "x = \"Good Morining bsir \"\n",
        "z = 14\n",
        "if z < 0 or z >= len(x):\n",
        "    print(\"Invalid index.\")\n",
        "else:\n",
        "    y= x[:z] + x[z+1:]\n",
        "    print(y)"
      ]
    },
    {
      "cell_type": "code",
      "execution_count": null,
      "id": "54a03669-3c1d-434e-9a02-1c6f04630df4",
      "metadata": {
        "id": "54a03669-3c1d-434e-9a02-1c6f04630df4"
      },
      "outputs": [],
      "source": [
        "#24th.Program to split and join a string"
      ]
    },
    {
      "cell_type": "code",
      "execution_count": null,
      "id": "a51402ed-5c14-4394-9dff-1d72c3904bc8",
      "metadata": {
        "id": "a51402ed-5c14-4394-9dff-1d72c3904bc8",
        "outputId": "499e8e33-bcb7-41a8-b021-ace960762122"
      },
      "outputs": [
        {
          "name": "stdout",
          "output_type": "stream",
          "text": [
            "[\"It's\", 'impossible']\n",
            "It's not impossible\n"
          ]
        }
      ],
      "source": [
        "#24th answer\n",
        "x = \"It's impossible\"\n",
        "print(x.split(\" \"))\n",
        "print(\" not \".join(x.split()))"
      ]
    },
    {
      "cell_type": "code",
      "execution_count": null,
      "id": "11d8281e-18b9-471e-9485-3530ba4c3829",
      "metadata": {
        "id": "11d8281e-18b9-471e-9485-3530ba4c3829"
      },
      "outputs": [],
      "source": [
        "#25th.  Check if a given string is binary string or not"
      ]
    },
    {
      "cell_type": "code",
      "execution_count": null,
      "id": "0b56f0a5-ad68-44ba-a897-8b2b19c04545",
      "metadata": {
        "id": "0b56f0a5-ad68-44ba-a897-8b2b19c04545",
        "outputId": "61b9a8ad-29fe-4fca-bf6d-4f700a727964"
      },
      "outputs": [
        {
          "name": "stdout",
          "output_type": "stream",
          "text": [
            "No\n"
          ]
        }
      ],
      "source": [
        "#25th answer\n",
        "x = \"0107\"\n",
        "y=\"01\"\n",
        "for i in y:\n",
        "    x=x.replace(i,\"\")\n",
        "if(len(x)==0):\n",
        "    print(\"Yes\")\n",
        "else:\n",
        "    print(\"No\")"
      ]
    },
    {
      "cell_type": "code",
      "execution_count": null,
      "id": "7f8e0532-3b51-461c-bf75-3fc418fd0eef",
      "metadata": {
        "id": "7f8e0532-3b51-461c-bf75-3fc418fd0eef"
      },
      "outputs": [],
      "source": [
        "#26th. Find all close matches of input string from a list"
      ]
    },
    {
      "cell_type": "code",
      "execution_count": null,
      "id": "d2ca542f-0b89-4ec2-b785-96d3a48cc21d",
      "metadata": {
        "id": "d2ca542f-0b89-4ec2-b785-96d3a48cc21d",
        "outputId": "0b6b0daa-df0a-447a-b1f0-8030661f4fb8"
      },
      "outputs": [
        {
          "name": "stdout",
          "output_type": "stream",
          "text": [
            "hello\n",
            "Close Matches:\n",
            "hello world\n",
            "hello friend\n",
            "hello\n"
          ]
        }
      ],
      "source": [
        "#26th answer\n",
        "x = \"hello\"\n",
        "y= [\"hello world\", \"hello friend\", \"hi world\", \"hello\", \"goodbye\"]\n",
        "z = []\n",
        "for i in y:\n",
        "    if x in i:\n",
        "        z.append(i)\n",
        "print( x)\n",
        "print(\"Close Matches:\")\n",
        "for u in z:\n",
        "    print(u)"
      ]
    },
    {
      "cell_type": "code",
      "execution_count": null,
      "id": "c73e1b93-d664-4cbc-ac70-c53ccb040c21",
      "metadata": {
        "id": "c73e1b93-d664-4cbc-ac70-c53ccb040c21"
      },
      "outputs": [],
      "source": [
        "#27th. Program to find uncommon words from two Strings"
      ]
    },
    {
      "cell_type": "code",
      "execution_count": null,
      "id": "5733ed02-080c-454e-8ee2-202148388fab",
      "metadata": {
        "id": "5733ed02-080c-454e-8ee2-202148388fab",
        "outputId": "02c7061e-03ae-4542-df35-1bdc2ec71cf2"
      },
      "outputs": [
        {
          "name": "stdout",
          "output_type": "stream",
          "text": [
            "['this', 'jarves', 'knull', 'that']\n"
          ]
        }
      ],
      "source": [
        "#27th naswer\n",
        "x= \"Hello world this is knull\"\n",
        "y= \"Hello world that is jarves\"\n",
        "x1 = x.split()\n",
        "y2 = y.split()\n",
        "str1 = []\n",
        "str2 = []\n",
        "for i in x1:\n",
        "    if i not in y2:\n",
        "        str1.append(i)\n",
        "for i in y2:\n",
        "    if i not in x1:\n",
        "        str2.append(i)\n",
        "total_uncommon = list(set(str1+str2))\n",
        "print( total_uncommon)"
      ]
    },
    {
      "cell_type": "code",
      "execution_count": null,
      "id": "c366018c-74ca-4b72-ba43-de18b536d7e7",
      "metadata": {
        "id": "c366018c-74ca-4b72-ba43-de18b536d7e7"
      },
      "outputs": [],
      "source": [
        "#28th. Swap commas and dots in a String"
      ]
    },
    {
      "cell_type": "code",
      "execution_count": null,
      "id": "11c1ff0c-2eef-401d-8262-376024c6cec9",
      "metadata": {
        "id": "11c1ff0c-2eef-401d-8262-376024c6cec9",
        "outputId": "9a333a6c-a1ba-4601-b0ba-157f2beca0be"
      },
      "outputs": [
        {
          "name": "stdout",
          "output_type": "stream",
          "text": [
            "Hello. World, This is Python.\n"
          ]
        }
      ],
      "source": [
        "#28th answer\n",
        "x= \"Hello, World. This is Python,\"\n",
        "y = input_str.replace(\",\", \":\").replace(\".\", \",\").replace(\":\", \".\")\n",
        "print(y)"
      ]
    },
    {
      "cell_type": "code",
      "execution_count": null,
      "id": "798bb159-5cdc-4581-9adc-cfb2a28b332c",
      "metadata": {
        "id": "798bb159-5cdc-4581-9adc-cfb2a28b332c"
      },
      "outputs": [],
      "source": [
        "#29th. Permutation of a given string using inbuilt function"
      ]
    },
    {
      "cell_type": "code",
      "execution_count": null,
      "id": "cc46b6b2-92b2-400f-bd9d-17d6e05bd2e2",
      "metadata": {
        "id": "cc46b6b2-92b2-400f-bd9d-17d6e05bd2e2",
        "outputId": "3a8ed1ca-4063-422e-ed7d-a9724940fb40"
      },
      "outputs": [
        {
          "name": "stdout",
          "output_type": "stream",
          "text": [
            "Permutations:\n",
            "abc\n",
            "acb\n",
            "bac\n",
            "bca\n",
            "cab\n",
            "cba\n"
          ]
        }
      ],
      "source": [
        "#29th\n",
        "import itertools\n",
        "x = \"abc\"\n",
        "permutations = [''.join(p) for p in itertools.permutations(x)]\n",
        "print(\"Permutations:\")\n",
        "for perm in permutations:\n",
        "    print(perm)"
      ]
    },
    {
      "cell_type": "code",
      "execution_count": null,
      "id": "e7c70640-6e3e-43dd-aca4-bb3994cfc567",
      "metadata": {
        "id": "e7c70640-6e3e-43dd-aca4-bb3994cfc567"
      },
      "outputs": [],
      "source": [
        "#30th.Check for URL in a String"
      ]
    },
    {
      "cell_type": "code",
      "execution_count": null,
      "id": "8f85ac8f-0a95-42ab-bab6-868cc74bdeb3",
      "metadata": {
        "id": "8f85ac8f-0a95-42ab-bab6-868cc74bdeb3",
        "outputId": "8abaf9d2-76d9-4259-c84c-89b131931483"
      },
      "outputs": [
        {
          "name": "stdout",
          "output_type": "stream",
          "text": [
            "yes it have url.\n"
          ]
        }
      ],
      "source": [
        "#30th answer\n",
        "x = \"Hello@https://docs.google.com/document/d/1BZYZbP0V7BBQDuiiW5QatO84j-0dB7PE/edit\"\n",
        "if \"https://\" in x:\n",
        "    print(\"yes it have url.\")\n",
        "else:\n",
        "    print(\"not at all.\")"
      ]
    },
    {
      "cell_type": "code",
      "execution_count": null,
      "id": "4b174976-f44e-44d8-beb2-d0293a482bb6",
      "metadata": {
        "id": "4b174976-f44e-44d8-beb2-d0293a482bb6"
      },
      "outputs": [],
      "source": [
        "#31st. Execute a String of Code in Python"
      ]
    },
    {
      "cell_type": "code",
      "execution_count": null,
      "id": "b979c5a8-4584-4c73-a2b0-1f8acfa457af",
      "metadata": {
        "id": "b979c5a8-4584-4c73-a2b0-1f8acfa457af",
        "outputId": "17a24bab-1036-421e-9a67-83fc4c10059f"
      },
      "outputs": [
        {
          "name": "stdout",
          "output_type": "stream",
          "text": [
            "Hello, World!\n"
          ]
        }
      ],
      "source": [
        "#31st\n",
        "x = \"print('Hello, World!')\"\n",
        "exec(x)"
      ]
    },
    {
      "cell_type": "code",
      "execution_count": null,
      "id": "13a16e3e-45bc-4b89-8c38-ccc8642cd6c4",
      "metadata": {
        "id": "13a16e3e-45bc-4b89-8c38-ccc8642cd6c4"
      },
      "outputs": [],
      "source": [
        "#32nd.  Convert numeric words to numbers"
      ]
    },
    {
      "cell_type": "code",
      "execution_count": null,
      "id": "681e816b-dbf8-4963-bbca-cd502ebbd930",
      "metadata": {
        "id": "681e816b-dbf8-4963-bbca-cd502ebbd930"
      },
      "outputs": [],
      "source": [
        "#32nd answer"
      ]
    },
    {
      "cell_type": "code",
      "execution_count": null,
      "id": "a9c04a03-e9bc-4b4b-a939-76baf40ac680",
      "metadata": {
        "id": "a9c04a03-e9bc-4b4b-a939-76baf40ac680"
      },
      "outputs": [],
      "source": [
        "#33rd.  Word location in String"
      ]
    },
    {
      "cell_type": "code",
      "execution_count": null,
      "id": "fdf7c69d-9e44-40ff-b086-ec96fb8dbf03",
      "metadata": {
        "id": "fdf7c69d-9e44-40ff-b086-ec96fb8dbf03",
        "outputId": "52926a9a-cb8e-45ef-923f-fc0ec14fe322"
      },
      "outputs": [
        {
          "name": "stdout",
          "output_type": "stream",
          "text": [
            "The location of word is : 3\n"
          ]
        }
      ],
      "source": [
        "#33rd answer\n",
        "x = 'I am the best'\n",
        "wrd = 'best'\n",
        "x=test_str.split()\n",
        "res=x.index(wrd)+1\n",
        "print(\"The location of word is : \" + str(res))"
      ]
    },
    {
      "cell_type": "code",
      "execution_count": null,
      "id": "1154791f-68c5-4169-9db4-5f077bea8da4",
      "metadata": {
        "id": "1154791f-68c5-4169-9db4-5f077bea8da4"
      },
      "outputs": [],
      "source": [
        "#34th. Consecutive characters frequency"
      ]
    },
    {
      "cell_type": "code",
      "execution_count": null,
      "id": "6512ad75-fb5f-4cf2-8a69-5d21b00fd70b",
      "metadata": {
        "id": "6512ad75-fb5f-4cf2-8a69-5d21b00fd70b",
        "outputId": "c45b481e-7517-49d8-ff61-b66f82d0913c"
      },
      "outputs": [
        {
          "name": "stdout",
          "output_type": "stream",
          "text": [
            "Characters  [1, 2, 1, 1, 3, 2, 3, 2]\n"
          ]
        }
      ],
      "source": [
        "#34th answer\n",
        "test_str = \"httdvggghhgggtt\"\n",
        "res = []\n",
        "count = 1\n",
        "for i in range(len(test_str)-1):\n",
        "    if test_str[i] == test_str[i+1]:\n",
        "        count += 1\n",
        "    else:\n",
        "        res.append(count)\n",
        "        count = 1\n",
        "res.append(count)\n",
        "print(\"Characters \",res)"
      ]
    },
    {
      "cell_type": "code",
      "execution_count": null,
      "id": "e3fdfae3-98fb-4dd1-831d-2421488438a0",
      "metadata": {
        "id": "e3fdfae3-98fb-4dd1-831d-2421488438a0"
      },
      "outputs": [],
      "source": [
        "#35th. String slicing in Python to rotate a string"
      ]
    },
    {
      "cell_type": "code",
      "execution_count": null,
      "id": "3e54fb0d-c350-46b5-a4b9-4ab2c3e4821a",
      "metadata": {
        "id": "3e54fb0d-c350-46b5-a4b9-4ab2c3e4821a",
        "outputId": "c7ccca8a-5b42-4629-f098-4434d7eeadce"
      },
      "outputs": [
        {
          "name": "stdout",
          "output_type": "stream",
          "text": [
            "Rotated String:  ArmrestlerHello\n"
          ]
        }
      ],
      "source": [
        "#35th answer\n",
        "x = \"Hello Armrestler\"\n",
        "y = 5\n",
        "y = y % len(x)\n",
        "z= x[y:] + x[:y]\n",
        "print(\"Rotated String:\", z)"
      ]
    },
    {
      "cell_type": "code",
      "execution_count": null,
      "id": "8a42b923-9f3f-4df7-84d9-cc62a38185db",
      "metadata": {
        "id": "8a42b923-9f3f-4df7-84d9-cc62a38185db"
      },
      "outputs": [],
      "source": [
        "#36th. String slicing in Python to check if a string can become empty by recursive deletion"
      ]
    },
    {
      "cell_type": "code",
      "execution_count": null,
      "id": "b4d20ac6-ea27-403f-9c09-68090c100d28",
      "metadata": {
        "id": "b4d20ac6-ea27-403f-9c09-68090c100d28",
        "outputId": "e52df4e7-34a9-40cc-ce3a-b887a8e845ca"
      },
      "outputs": [
        {
          "name": "stdout",
          "output_type": "stream",
          "text": [
            "Minimum Rotations: 17\n"
          ]
        }
      ],
      "source": [
        "#36th answer\n",
        "input_str = \"Hello Armwrestler\"\n",
        "doubled_str = input_str + input_str\n",
        "z= doubled_str.find(input_str, 1)\n",
        "print(\"Minimum Rotations:\", z)"
      ]
    },
    {
      "cell_type": "code",
      "execution_count": null,
      "id": "43b5505f-6209-400f-b0d9-cdec221e5a12",
      "metadata": {
        "id": "43b5505f-6209-400f-b0d9-cdec221e5a12"
      },
      "outputs": [],
      "source": [
        "#37th. Words Frequency in String Shorthands"
      ]
    },
    {
      "cell_type": "code",
      "execution_count": null,
      "id": "1874df51-d0f9-4d33-b09f-15fe692e8caa",
      "metadata": {
        "id": "1874df51-d0f9-4d33-b09f-15fe692e8caa",
        "outputId": "c2f83e43-e2c4-4655-d6e4-5a96e97b2940"
      },
      "outputs": [
        {
          "name": "stdout",
          "output_type": "stream",
          "text": [
            "{'who': 1, 'is': 2, 'the': 2, 'best,is': 1, 'am': 1, 'i': 3, 'best': 2}\n"
          ]
        }
      ],
      "source": [
        "#37th answer\n",
        "x = 'who is the best,is am i the best'\n",
        "y = {key: x.count(key) for key in x.split()}\n",
        "print(y)"
      ]
    },
    {
      "cell_type": "code",
      "execution_count": null,
      "id": "60c8340f-8d37-4768-a040-4aa1d8d55631",
      "metadata": {
        "id": "60c8340f-8d37-4768-a040-4aa1d8d55631"
      },
      "outputs": [],
      "source": [
        "#38th. Successive Characters Frequency"
      ]
    },
    {
      "cell_type": "code",
      "execution_count": null,
      "id": "a3d290c9-7ad8-4a04-b624-79fe6ca54026",
      "metadata": {
        "id": "a3d290c9-7ad8-4a04-b624-79fe6ca54026"
      },
      "outputs": [],
      "source": [
        "#38th answer\n",
        "\n"
      ]
    },
    {
      "cell_type": "code",
      "execution_count": null,
      "id": "9f877eed-be99-45a5-8496-33bcc8923782",
      "metadata": {
        "id": "9f877eed-be99-45a5-8496-33bcc8923782"
      },
      "outputs": [],
      "source": [
        "#39th. Sort String list by K character frequency"
      ]
    },
    {
      "cell_type": "code",
      "execution_count": null,
      "id": "00260b1b-6d72-4f66-895e-42c4f0ac5b68",
      "metadata": {
        "id": "00260b1b-6d72-4f66-895e-42c4f0ac5b68"
      },
      "outputs": [],
      "source": [
        "#39th answer\n"
      ]
    },
    {
      "cell_type": "code",
      "execution_count": null,
      "id": "0f0c6e11-740e-4872-b563-9a4d5f392ccf",
      "metadata": {
        "id": "0f0c6e11-740e-4872-b563-9a4d5f392ccf"
      },
      "outputs": [],
      "source": [
        "#40th. Convert Snake case to Pascal case"
      ]
    },
    {
      "cell_type": "code",
      "execution_count": null,
      "id": "2b91875e-3194-490a-a7b9-49b8966d971d",
      "metadata": {
        "id": "2b91875e-3194-490a-a7b9-49b8966d971d"
      },
      "outputs": [],
      "source": [
        "#41st. Avoid Last occurrence of delimitter"
      ]
    },
    {
      "cell_type": "code",
      "execution_count": null,
      "id": "e2f34819-1dc7-4c28-b0a0-3a2d8dec6ae6",
      "metadata": {
        "id": "e2f34819-1dc7-4c28-b0a0-3a2d8dec6ae6"
      },
      "outputs": [],
      "source": [
        "#42nd. program to find the character position of Kth word from a list of strings"
      ]
    },
    {
      "cell_type": "code",
      "execution_count": null,
      "id": "e2dd052e-b079-4f32-9e3b-408d5252ea63",
      "metadata": {
        "id": "e2dd052e-b079-4f32-9e3b-408d5252ea63"
      },
      "outputs": [],
      "source": [
        "#43rd. Right and Left Shift characters in String"
      ]
    },
    {
      "cell_type": "code",
      "execution_count": null,
      "id": "04a0def8-b715-4922-8382-d9b0758e09ef",
      "metadata": {
        "id": "04a0def8-b715-4922-8382-d9b0758e09ef"
      },
      "outputs": [],
      "source": [
        "#43rd answer\n"
      ]
    },
    {
      "cell_type": "code",
      "execution_count": null,
      "id": "2ed72420-af7b-43ed-a08c-94fca1c390ab",
      "metadata": {
        "id": "2ed72420-af7b-43ed-a08c-94fca1c390ab"
      },
      "outputs": [],
      "source": [
        "#44th. Exceptional Split in String"
      ]
    },
    {
      "cell_type": "code",
      "execution_count": null,
      "id": "a2b8af90-9551-459a-857a-6333a6773792",
      "metadata": {
        "id": "a2b8af90-9551-459a-857a-6333a6773792"
      },
      "outputs": [],
      "source": [
        "#45th. Split String on vowels"
      ]
    },
    {
      "cell_type": "code",
      "execution_count": null,
      "id": "d389470d-f42d-4ad3-9e6d-0bcdc73fd4e9",
      "metadata": {
        "id": "d389470d-f42d-4ad3-9e6d-0bcdc73fd4e9"
      },
      "outputs": [],
      "source": [
        "#46th.  Mirror Image of String"
      ]
    },
    {
      "cell_type": "code",
      "execution_count": null,
      "id": "709de25b-e09b-450e-9842-5827682006b5",
      "metadata": {
        "id": "709de25b-e09b-450e-9842-5827682006b5",
        "outputId": "3300132f-85dd-4138-c472-f507e4baeb43"
      },
      "outputs": [
        {
          "name": "stdout",
          "output_type": "stream",
          "text": [
            "Mirror Image: dlroW olleH\n"
          ]
        }
      ],
      "source": [
        "#46th answer\n",
        "x = \"Hello World\"\n",
        "y = input_str[::-1]\n",
        "print(\"Mirror Image:\", y)"
      ]
    },
    {
      "cell_type": "code",
      "execution_count": null,
      "id": "2c872498-9b09-45c4-a0ab-0a213c55dc9b",
      "metadata": {
        "id": "2c872498-9b09-45c4-a0ab-0a213c55dc9b"
      },
      "outputs": [],
      "source": [
        "#47th.Replace multiple words with K"
      ]
    },
    {
      "cell_type": "code",
      "execution_count": null,
      "id": "f96a2dc5-5717-4350-8f5e-09e5c7b3df46",
      "metadata": {
        "id": "f96a2dc5-5717-4350-8f5e-09e5c7b3df46"
      },
      "outputs": [],
      "source": [
        "#48th.Replace Different characters in String at Once"
      ]
    },
    {
      "cell_type": "code",
      "execution_count": null,
      "id": "829fea95-e29a-446d-9e6b-fbda76c8bdc8",
      "metadata": {
        "id": "829fea95-e29a-446d-9e6b-fbda76c8bdc8"
      },
      "outputs": [],
      "source": [
        "#49th.Multiple indices Replace in String"
      ]
    },
    {
      "cell_type": "code",
      "execution_count": null,
      "id": "12f1ff7b-ede0-45db-be64-a61aabf9bbdc",
      "metadata": {
        "id": "12f1ff7b-ede0-45db-be64-a61aabf9bbdc"
      },
      "outputs": [],
      "source": [
        "#50th. Ways to remove multiple empty spaces from string List"
      ]
    },
    {
      "cell_type": "code",
      "execution_count": null,
      "id": "9ac78146-8d4f-4531-9833-8c38fe03dc17",
      "metadata": {
        "id": "9ac78146-8d4f-4531-9833-8c38fe03dc17",
        "outputId": "eb5e2954-c61c-4edd-fd8e-94c9c742dd37"
      },
      "outputs": [
        {
          "name": "stdout",
          "output_type": "stream",
          "text": [
            "Lets'sbringmedalforNation\n"
          ]
        }
      ],
      "source": [
        "#50th answer\n",
        "x= \"Lets's bring medal for Nation\"\n",
        "x = x.replace(\" \", \"\")\n",
        "print(x)"
      ]
    },
    {
      "cell_type": "code",
      "execution_count": null,
      "id": "b5526e95-d982-48aa-8cb1-0200fd307fb1",
      "metadata": {
        "id": "b5526e95-d982-48aa-8cb1-0200fd307fb1"
      },
      "outputs": [],
      "source": [
        "#51st. Remove punctuation from string"
      ]
    },
    {
      "cell_type": "code",
      "execution_count": null,
      "id": "7a772515-44f0-4cfb-903f-f3c910beff60",
      "metadata": {
        "id": "7a772515-44f0-4cfb-903f-f3c910beff60",
        "outputId": "377e91b2-90d6-4797-bd64-ffde0889a0be"
      },
      "outputs": [
        {
          "name": "stdout",
          "output_type": "stream",
          "text": [
            "\n",
            "Original String: Hello World, this is a test string\n",
            "No Punctuation String (Method 2): Hello World this is a test string\n"
          ]
        }
      ],
      "source": [
        "#51st answer\n",
        "import string\n",
        "no_punct_str = input_str\n",
        "for punct in string.punctuation:\n",
        "    no_punct_str = no_punct_str.replace(punct, '')\n",
        "\n",
        "print(\"\\nOriginal String:\", input_str)\n",
        "print(\"No Punctuation String (Method 2):\", no_punct_str)\n"
      ]
    },
    {
      "cell_type": "code",
      "execution_count": null,
      "id": "e35b74fb-8a9b-47f5-a5bc-819d1e50b025",
      "metadata": {
        "id": "e35b74fb-8a9b-47f5-a5bc-819d1e50b025"
      },
      "outputs": [],
      "source": [
        "#52nd. Similar characters Strings comparison"
      ]
    },
    {
      "cell_type": "code",
      "execution_count": null,
      "id": "ca3a9960-8425-4e15-a16f-f537ade1a4c6",
      "metadata": {
        "id": "ca3a9960-8425-4e15-a16f-f537ade1a4c6",
        "outputId": "695b5e27-ec40-4ed1-bb7a-437a535b7085"
      },
      "outputs": [
        {
          "name": "stdout",
          "output_type": "stream",
          "text": [
            "Similar {'o'}\n"
          ]
        }
      ],
      "source": [
        "#52nd answer\n",
        "s1 = \"hoi\"\n",
        "s2 = \"Hola\"\n",
        "x = set(s1) & set(s2)\n",
        "print(\"Similar\", x)"
      ]
    },
    {
      "cell_type": "code",
      "execution_count": null,
      "id": "a9232734-a7cf-4f0e-8cca-4ab7c5356bfa",
      "metadata": {
        "id": "a9232734-a7cf-4f0e-8cca-4ab7c5356bfa"
      },
      "outputs": [],
      "source": [
        "#53rd.  Remove K length Duplicates from String"
      ]
    },
    {
      "cell_type": "code",
      "execution_count": null,
      "id": "89bcf56d-0335-44f1-a281-ff610934f975",
      "metadata": {
        "id": "89bcf56d-0335-44f1-a281-ff610934f975"
      },
      "outputs": [],
      "source": [
        "#53rd answer\n",
        "\n"
      ]
    },
    {
      "cell_type": "code",
      "execution_count": null,
      "id": "0d118f50-ab7e-40d9-854d-f8a3af1eb773",
      "metadata": {
        "id": "0d118f50-ab7e-40d9-854d-f8a3af1eb773"
      },
      "outputs": [],
      "source": [
        "#54th.  Remove suffix from string list"
      ]
    },
    {
      "cell_type": "code",
      "execution_count": null,
      "id": "487cfd3c-e36e-4201-b434-b59dfbffd86f",
      "metadata": {
        "id": "487cfd3c-e36e-4201-b434-b59dfbffd86f"
      },
      "outputs": [],
      "source": [
        "#55th. Find all duplicate characters in string"
      ]
    },
    {
      "cell_type": "code",
      "execution_count": null,
      "id": "630c3c7a-ab4a-46ef-b6d2-6932c26fb622",
      "metadata": {
        "id": "630c3c7a-ab4a-46ef-b6d2-6932c26fb622",
        "outputId": "6d03b3e8-ca7e-4b85-dddf-6ad20a5b7f27"
      },
      "outputs": [
        {
          "name": "stdout",
          "output_type": "stream",
          "text": [
            "Duplicate Characters: {'r': 3, 'e': 2}\n"
          ]
        }
      ],
      "source": [
        "#55th answer\n",
        "import collections\n",
        "\n",
        "x = \"Armwrestler\"\n",
        "x = collections.Counter(x)\n",
        "duplicate_chars = {char: count for char, count in x.items() if count > 1}\n",
        "\n",
        "print(\"Duplicate Characters:\", duplicate_chars)"
      ]
    },
    {
      "cell_type": "code",
      "execution_count": null,
      "id": "a5a7fde5-1a6b-4765-a1b9-1f916e4a5295",
      "metadata": {
        "id": "a5a7fde5-1a6b-4765-a1b9-1f916e4a5295"
      },
      "outputs": [],
      "source": [
        "# 56th. Replace duplicate Occurrence in String"
      ]
    },
    {
      "cell_type": "code",
      "execution_count": null,
      "id": "eb2bcff0-edba-4205-85da-ea271da00001",
      "metadata": {
        "id": "eb2bcff0-edba-4205-85da-ea271da00001"
      },
      "outputs": [],
      "source": [
        "#56th answer\n"
      ]
    },
    {
      "cell_type": "code",
      "execution_count": null,
      "id": "41082c01-5609-4f5c-a523-db32038ef352",
      "metadata": {
        "id": "41082c01-5609-4f5c-a523-db32038ef352"
      },
      "outputs": [],
      "source": [
        "#57th Ways to convert string to dictionary"
      ]
    },
    {
      "cell_type": "code",
      "execution_count": null,
      "id": "20e913ca-d449-409b-a0f1-4afbfce842e7",
      "metadata": {
        "id": "20e913ca-d449-409b-a0f1-4afbfce842e7",
        "outputId": "63546dea-17df-4166-f748-582b6ff86cae"
      },
      "outputs": [
        {
          "name": "stdout",
          "output_type": "stream",
          "text": [
            "{' Micky ': ' Toman', ' Sahoo ': ' Toso', ' Senju ': ' Brahman'}\n",
            "{' you ': ' us', ' us ': ' happiness'}\n"
          ]
        }
      ],
      "source": [
        "#57th answer\n",
        "#1st way\n",
        "str = \" Micky = Toman; Sahoo = Toso; Senju = Brahman\"\n",
        "res=dict()\n",
        "x=str.split(\";\")\n",
        "for i in x:\n",
        "    a=i[:i.index(\"=\")]\n",
        "    b=i[i.index(\"=\")+1:]\n",
        "    res[a]=b\n",
        "print(res)\n",
        "#2nd way\n",
        "x = \" you = me; you = us; us = happiness\"\n",
        "u = dict(i.split(\"=\") for i in x.split(\";\"))\n",
        "print(u)"
      ]
    },
    {
      "cell_type": "code",
      "execution_count": null,
      "id": "f6448981-c2ac-412c-80a0-52ea54135a8b",
      "metadata": {
        "id": "f6448981-c2ac-412c-80a0-52ea54135a8b"
      },
      "outputs": [],
      "source": [
        "#58th .Check if two strings are Rotationally Equivalent"
      ]
    },
    {
      "cell_type": "code",
      "execution_count": null,
      "id": "2e00b4a0-7486-49aa-8a31-f7741bdd05c5",
      "metadata": {
        "id": "2e00b4a0-7486-49aa-8a31-f7741bdd05c5"
      },
      "outputs": [],
      "source": [
        "#59th. Test if string is subset of another"
      ]
    },
    {
      "cell_type": "code",
      "execution_count": null,
      "id": "596d9dcb-d42c-40ea-b270-0b4733ae3329",
      "metadata": {
        "id": "596d9dcb-d42c-40ea-b270-0b4733ae3329",
        "outputId": "3a06a7cb-2d8e-4054-a264-ae532d52a7f5"
      },
      "outputs": [
        {
          "name": "stdout",
          "output_type": "stream",
          "text": [
            "False\n"
          ]
        }
      ],
      "source": [
        "#59th answer\n",
        "x = \"whats'ups\"\n",
        "y = \"whsf\"\n",
        "z = set(y).issubset(x)\n",
        "print(z)"
      ]
    },
    {
      "cell_type": "code",
      "execution_count": null,
      "id": "d15d07da-309d-4a85-808f-423d218f73a5",
      "metadata": {
        "id": "d15d07da-309d-4a85-808f-423d218f73a5"
      },
      "outputs": [],
      "source": [
        "#60th. Program to Generate Random binary string"
      ]
    },
    {
      "cell_type": "code",
      "execution_count": null,
      "id": "3beda10f-3996-42cc-a7a7-94e2a6f6726c",
      "metadata": {
        "id": "3beda10f-3996-42cc-a7a7-94e2a6f6726c"
      },
      "outputs": [],
      "source": [
        "#61st. Program to convert binary to string"
      ]
    },
    {
      "cell_type": "code",
      "execution_count": null,
      "id": "5d082fe4-1d20-40a5-bf2b-5bb52babcbf1",
      "metadata": {
        "id": "5d082fe4-1d20-40a5-bf2b-5bb52babcbf1",
        "outputId": "cb65bbce-ced8-49b0-b7eb-54b8569db971"
      },
      "outputs": [
        {
          "name": "stdout",
          "output_type": "stream",
          "text": [
            "Sreing hello\n"
          ]
        }
      ],
      "source": [
        "#61st answer\n",
        "x = \"01101000 01100101 01101100 01101100 01101111\"\n",
        "z= x.split()\n",
        "y = ''.join(chr(int(i, 2)) for i in z)\n",
        "print(\"Sreing\", y)"
      ]
    },
    {
      "cell_type": "code",
      "execution_count": null,
      "id": "38e03072-2e8e-44b5-9f91-452bdf149f37",
      "metadata": {
        "id": "38e03072-2e8e-44b5-9f91-452bdf149f37"
      },
      "outputs": [],
      "source": [
        "#62nd.  Reverse Sort a String"
      ]
    },
    {
      "cell_type": "code",
      "execution_count": null,
      "id": "3feabb61-5ff8-45d0-855b-d165af6113eb",
      "metadata": {
        "id": "3feabb61-5ff8-45d0-855b-d165af6113eb",
        "outputId": "bacb5594-caaf-4a7a-f43a-b4a6f2c217de"
      },
      "outputs": [
        {
          "name": "stdout",
          "output_type": "stream",
          "text": [
            "Reverse Sorted String: ollhe\n"
          ]
        }
      ],
      "source": [
        "#62nd answer\n",
        "x = \"hello\"\n",
        "y = \"\".join(sorted(x, reverse=True))\n",
        "print(\"Reverse Sorted String:\",y)"
      ]
    }
  ],
  "metadata": {
    "kernelspec": {
      "display_name": "Python 3 (ipykernel)",
      "language": "python",
      "name": "python3"
    },
    "language_info": {
      "codemirror_mode": {
        "name": "ipython",
        "version": 3
      },
      "file_extension": ".py",
      "mimetype": "text/x-python",
      "name": "python",
      "nbconvert_exporter": "python",
      "pygments_lexer": "ipython3",
      "version": "3.12.4"
    },
    "colab": {
      "provenance": []
    }
  },
  "nbformat": 4,
  "nbformat_minor": 5
}
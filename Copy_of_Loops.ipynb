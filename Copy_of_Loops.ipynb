{
  "cells": [
    {
      "cell_type": "code",
      "source": [
        "# Python has two primitive loop commands\n",
        "\n",
        "# 1. while loop\n",
        "# 2. for loop"
      ],
      "metadata": {
        "id": "jSUO65Oi8xjB"
      },
      "execution_count": null,
      "outputs": []
    },
    {
      "cell_type": "code",
      "execution_count": null,
      "metadata": {
        "colab": {
          "base_uri": "https://localhost:8080/"
        },
        "id": "2MIkL6DjxlkE",
        "outputId": "6b0a7ded-eeab-4c6a-b106-0a71e7daa357"
      },
      "outputs": [
        {
          "output_type": "stream",
          "name": "stdout",
          "text": [
            "apple\n",
            "banana\n",
            "cherry\n",
            "grapes\n",
            "mango\n"
          ]
        }
      ],
      "source": [
        "fruits=[\"apple\",\"banana\",\"cherry\",\"grapes\",\"mango\"]\n",
        "for fruit in fruits:\n",
        " print(fruit)"
      ]
    },
    {
      "cell_type": "code",
      "execution_count": null,
      "metadata": {
        "colab": {
          "base_uri": "https://localhost:8080/"
        },
        "id": "AR9kxV2Cyk06",
        "outputId": "aa4d5152-6fc6-4a2f-9a0d-e5fd532f0358"
      },
      "outputs": [
        {
          "output_type": "stream",
          "name": "stdout",
          "text": [
            "0\n",
            "1\n",
            "2\n",
            "3\n",
            "4\n"
          ]
        }
      ],
      "source": [
        "# Using range() loop\n",
        "for i in range(5):\n",
        "  print(i)"
      ]
    },
    {
      "cell_type": "code",
      "execution_count": null,
      "metadata": {
        "colab": {
          "base_uri": "https://localhost:8080/"
        },
        "id": "3dUCglmi0X5U",
        "outputId": "3f595445-1b6a-4a87-9113-6e29f55c46cd"
      },
      "outputs": [
        {
          "output_type": "stream",
          "name": "stdout",
          "text": [
            "0\n",
            "1\n",
            "2\n",
            "3\n",
            "4\n",
            "5\n",
            "6\n",
            "7\n",
            "8\n",
            "9\n"
          ]
        }
      ],
      "source": [
        "for i in range(10):\n",
        "  print(i)"
      ]
    },
    {
      "cell_type": "code",
      "source": [
        "for i in range (1,50):\n",
        "  if i%2==0:\n",
        "    print(i)"
      ],
      "metadata": {
        "colab": {
          "base_uri": "https://localhost:8080/"
        },
        "id": "11XT-HWicGqD",
        "outputId": "05490a5e-f4ec-45e4-8ca3-6a1defd2a618"
      },
      "execution_count": null,
      "outputs": [
        {
          "output_type": "stream",
          "name": "stdout",
          "text": [
            "2\n",
            "4\n",
            "6\n",
            "8\n",
            "10\n",
            "12\n",
            "14\n",
            "16\n",
            "18\n",
            "20\n",
            "22\n",
            "24\n",
            "26\n",
            "28\n",
            "30\n",
            "32\n",
            "34\n",
            "36\n",
            "38\n",
            "40\n",
            "42\n",
            "44\n",
            "46\n",
            "48\n"
          ]
        }
      ]
    },
    {
      "cell_type": "code",
      "source": [
        "for i in range(1,50):\n",
        "  if i%2!=0:\n",
        "    print(i)"
      ],
      "metadata": {
        "colab": {
          "base_uri": "https://localhost:8080/"
        },
        "id": "zmM4LGiPccZN",
        "outputId": "5f4b9565-6dcd-4cd4-b283-629404022079"
      },
      "execution_count": null,
      "outputs": [
        {
          "output_type": "stream",
          "name": "stdout",
          "text": [
            "1\n",
            "3\n",
            "5\n",
            "7\n",
            "9\n",
            "11\n",
            "13\n",
            "15\n",
            "17\n",
            "19\n",
            "21\n",
            "23\n",
            "25\n",
            "27\n",
            "29\n",
            "31\n",
            "33\n",
            "35\n",
            "37\n",
            "39\n",
            "41\n",
            "43\n",
            "45\n",
            "47\n",
            "49\n"
          ]
        }
      ]
    },
    {
      "cell_type": "code",
      "execution_count": null,
      "metadata": {
        "colab": {
          "base_uri": "https://localhost:8080/"
        },
        "id": "59r0mcgz06Ng",
        "outputId": "1b5e8aed-3510-461e-c475-d74ff5a97cec"
      },
      "outputs": [
        {
          "output_type": "stream",
          "name": "stdout",
          "text": [
            "p\n",
            "y\n",
            "t\n",
            "h\n",
            "o\n",
            "n\n"
          ]
        }
      ],
      "source": [
        "for letter in \"python\":\n",
        "  print(letter)"
      ]
    },
    {
      "cell_type": "code",
      "execution_count": null,
      "metadata": {
        "id": "zKU7ekr71KkZ"
      },
      "outputs": [],
      "source": [
        "# While Loop"
      ]
    },
    {
      "cell_type": "code",
      "execution_count": null,
      "metadata": {
        "colab": {
          "base_uri": "https://localhost:8080/"
        },
        "id": "fNPQsX5E2JoZ",
        "outputId": "ffffd357-3e25-404b-da9a-ec4e989bf10b"
      },
      "outputs": [
        {
          "output_type": "stream",
          "name": "stdout",
          "text": [
            "0\n",
            "1\n",
            "2\n",
            "3\n",
            "4\n"
          ]
        }
      ],
      "source": [
        "# Basic while loop\n",
        "count=0\n",
        "while count < 5:\n",
        "  print(count)\n",
        "  count+=1"
      ]
    },
    {
      "cell_type": "code",
      "execution_count": null,
      "metadata": {
        "colab": {
          "base_uri": "https://localhost:8080/"
        },
        "id": "ETriwGR6fXrM",
        "outputId": "d0a34bb6-0d19-410f-eafb-6659693fd0c2"
      },
      "outputs": [
        {
          "output_type": "stream",
          "name": "stdout",
          "text": [
            "1\n",
            "2\n",
            "3\n",
            "4\n",
            "5\n"
          ]
        }
      ],
      "source": [
        "i=1\n",
        "while (i<=5):\n",
        " print(i)\n",
        " i=i+1\n"
      ]
    },
    {
      "cell_type": "code",
      "execution_count": null,
      "metadata": {
        "colab": {
          "base_uri": "https://localhost:8080/"
        },
        "id": "-NU6TWOw2iJ-",
        "outputId": "68c1cfc1-2f4c-4feb-9f14-63a96ad88c4b"
      },
      "outputs": [
        {
          "output_type": "stream",
          "name": "stdout",
          "text": [
            "5\n",
            "6\n",
            "7\n",
            "8\n",
            "9\n"
          ]
        }
      ],
      "source": [
        "count=5\n",
        "while count < 10:\n",
        "  print(count)\n",
        "  count+=1"
      ]
    },
    {
      "cell_type": "code",
      "execution_count": null,
      "metadata": {
        "colab": {
          "base_uri": "https://localhost:8080/"
        },
        "id": "s_BYe9K04tQm",
        "outputId": "6fa3ff29-fa7a-4f2c-c22d-67dae42e17e0"
      },
      "outputs": [
        {
          "output_type": "stream",
          "name": "stdout",
          "text": [
            "enter a command (type \"exit\" to quit):quit\n",
            "you entered: quit\n",
            "enter a command (type \"exit\" to quit):exit\n",
            "you entered: exit\n"
          ]
        }
      ],
      "source": [
        "# Using while to taking keep input\n",
        "user_input = ''\n",
        "while user_input !=\"exit\":\n",
        "  user_input = input('enter a command (type \"exit\" to quit):')\n",
        "  print(f\"you entered: {user_input}\")"
      ]
    },
    {
      "cell_type": "code",
      "execution_count": null,
      "metadata": {
        "colab": {
          "base_uri": "https://localhost:8080/"
        },
        "id": "G8XAb2UMf5kX",
        "outputId": "aa989a20-e6ba-4e29-f0bd-354412f4fd98"
      },
      "outputs": [
        {
          "output_type": "stream",
          "name": "stdout",
          "text": [
            "0\n",
            "2\n",
            "4\n",
            "6\n",
            "8\n",
            "10\n"
          ]
        }
      ],
      "source": [
        "# for even num\n",
        "i=0\n",
        "while i <=10:\n",
        "  print(i)\n",
        "  i=i+2"
      ]
    },
    {
      "cell_type": "code",
      "execution_count": null,
      "metadata": {
        "colab": {
          "base_uri": "https://localhost:8080/"
        },
        "id": "_k61jQMZiZpz",
        "outputId": "f976e3d7-8e58-4957-9d55-31484e77250d"
      },
      "outputs": [
        {
          "output_type": "stream",
          "name": "stdout",
          "text": [
            "1\n",
            "3\n",
            "5\n",
            "7\n",
            "9\n"
          ]
        }
      ],
      "source": [
        "# for odd num\n",
        "i=1\n",
        "while i <=10:\n",
        "  print(i)\n",
        "  i=i+2"
      ]
    },
    {
      "cell_type": "code",
      "execution_count": null,
      "metadata": {
        "colab": {
          "base_uri": "https://localhost:8080/"
        },
        "id": "MhnMHUiLiyXT",
        "outputId": "aed5cc59-6276-4b56-be49-b9ab99328229"
      },
      "outputs": [
        {
          "output_type": "stream",
          "name": "stdout",
          "text": [
            "1\n",
            "3\n",
            "6\n",
            "10\n",
            "15\n",
            "21\n",
            "28\n",
            "36\n",
            "45\n",
            "55\n"
          ]
        }
      ],
      "source": [
        "# for sum of 1 to 10 natural num\n",
        "x=1\n",
        "y=0\n",
        "while  x <=10:\n",
        "  y=x+y\n",
        "  print(y)\n",
        "  x=x+1"
      ]
    },
    {
      "cell_type": "code",
      "execution_count": null,
      "metadata": {
        "colab": {
          "base_uri": "https://localhost:8080/"
        },
        "id": "MtDmGunzNjDQ",
        "outputId": "aa7488e8-9980-4cab-ec5d-465b0d7def58"
      },
      "outputs": [
        {
          "output_type": "stream",
          "name": "stdout",
          "text": [
            "1\n",
            "4\n",
            "10\n",
            "15\n"
          ]
        }
      ],
      "source": [
        "# Sum of a list\n",
        "num=[1,3,6,5]\n",
        "sum=0\n",
        "for i in num:\n",
        "  sum+=i\n",
        "  print(sum)"
      ]
    },
    {
      "cell_type": "code",
      "execution_count": null,
      "metadata": {
        "colab": {
          "base_uri": "https://localhost:8080/"
        },
        "id": "Y7CLlQron1xo",
        "outputId": "31e94011-a752-45d8-c17c-f826d04786a3"
      },
      "outputs": [
        {
          "output_type": "stream",
          "name": "stdout",
          "text": [
            "1\n",
            "4\n",
            "9\n",
            "16\n",
            "25\n",
            "36\n",
            "49\n",
            "64\n",
            "81\n",
            "100\n"
          ]
        }
      ],
      "source": [
        "#  for squre of 10 natural num\n",
        "x=1\n",
        "while x <=10:\n",
        "  print(x*x)\n",
        "  x+=1"
      ]
    },
    {
      "cell_type": "code",
      "source": [
        "# for qube of 10 natural number\n",
        "x=1\n",
        "while x <=10:\n",
        "  print(x*x*x)\n",
        "  x+=1\n",
        "\n"
      ],
      "metadata": {
        "colab": {
          "base_uri": "https://localhost:8080/"
        },
        "id": "ObM936WSuwaw",
        "outputId": "7b93ba08-fbd6-4527-ab86-743da200cab5"
      },
      "execution_count": null,
      "outputs": [
        {
          "output_type": "stream",
          "name": "stdout",
          "text": [
            "1\n",
            "8\n",
            "27\n",
            "64\n",
            "125\n",
            "216\n",
            "343\n",
            "512\n",
            "729\n",
            "1000\n"
          ]
        }
      ]
    },
    {
      "cell_type": "code",
      "source": [
        "# Break statement we can stop the loop even if the while condition is\n",
        "i=1\n",
        "while i < 10:\n",
        "  print(i)\n",
        "  if i == 4:\n",
        "    break\n",
        "  i+=1"
      ],
      "metadata": {
        "id": "7ijeD3NQvu24",
        "colab": {
          "base_uri": "https://localhost:8080/"
        },
        "outputId": "3b4fc432-586a-4fec-aa3d-fe1fde3e9941"
      },
      "execution_count": null,
      "outputs": [
        {
          "output_type": "stream",
          "name": "stdout",
          "text": [
            "1\n",
            "2\n",
            "3\n",
            "4\n"
          ]
        }
      ]
    },
    {
      "cell_type": "code",
      "source": [
        "# contiue  statement  we can stop the current item\n",
        "i=0\n",
        "while i < 10:\n",
        "  i += 1\n",
        "  if i == 5:\n",
        "    continue\n",
        "  print(i)\n"
      ],
      "metadata": {
        "colab": {
          "base_uri": "https://localhost:8080/"
        },
        "id": "BTRIZ58Tittk",
        "outputId": "4f1a47d2-73d7-4c51-b114-36173921eae5"
      },
      "execution_count": null,
      "outputs": [
        {
          "output_type": "stream",
          "name": "stdout",
          "text": [
            "1\n",
            "2\n",
            "3\n",
            "4\n",
            "6\n",
            "7\n",
            "8\n",
            "9\n",
            "10\n"
          ]
        }
      ]
    },
    {
      "cell_type": "code",
      "source": [
        "i=0\n",
        "while i < 10:\n",
        "   i += 1\n",
        "   if i == 5:\n",
        "      continue\n",
        "   elif i == 8:\n",
        "      continue\n",
        "   print(i)\n"
      ],
      "metadata": {
        "colab": {
          "base_uri": "https://localhost:8080/"
        },
        "id": "AbOktAydljux",
        "outputId": "72c918f4-7603-4350-b7a3-b357c4fba71b"
      },
      "execution_count": null,
      "outputs": [
        {
          "output_type": "stream",
          "name": "stdout",
          "text": [
            "1\n",
            "2\n",
            "3\n",
            "4\n",
            "6\n",
            "7\n",
            "9\n",
            "10\n"
          ]
        }
      ]
    },
    {
      "cell_type": "code",
      "source": [
        "# For loop"
      ],
      "metadata": {
        "id": "sNlCvMJGlzFe"
      },
      "execution_count": null,
      "outputs": []
    },
    {
      "cell_type": "code",
      "source": [
        "l1=[\"a\",\"b\",\"c\",\"d\"]\n",
        "for x in l1:\n",
        "  print(x)"
      ],
      "metadata": {
        "colab": {
          "base_uri": "https://localhost:8080/"
        },
        "id": "tywj1JiHn1H8",
        "outputId": "cf06549b-f2df-4bad-fb7a-2062146ab5e7"
      },
      "execution_count": null,
      "outputs": [
        {
          "output_type": "stream",
          "name": "stdout",
          "text": [
            "a\n",
            "b\n",
            "c\n",
            "d\n"
          ]
        }
      ]
    },
    {
      "cell_type": "code",
      "source": [
        "for x in \"AAFT\":\n",
        " print(x)"
      ],
      "metadata": {
        "colab": {
          "base_uri": "https://localhost:8080/"
        },
        "id": "EiWyK6BNpgW-",
        "outputId": "57288d78-513b-4972-d11c-aae9e2e63a3d"
      },
      "execution_count": null,
      "outputs": [
        {
          "output_type": "stream",
          "name": "stdout",
          "text": [
            "A\n",
            "A\n",
            "F\n",
            "T\n"
          ]
        }
      ]
    },
    {
      "cell_type": "code",
      "source": [
        "# break statement\n",
        "l1=[\"A\",\"B\",\"C\",\"D\"]\n",
        "for x in l1:\n",
        "  print(x)\n",
        "  if x == \"B\":\n",
        "    break"
      ],
      "metadata": {
        "colab": {
          "base_uri": "https://localhost:8080/"
        },
        "id": "piiM8_HaqJVG",
        "outputId": "290a1173-f350-4d9a-88cd-2670b3797aaa"
      },
      "execution_count": null,
      "outputs": [
        {
          "output_type": "stream",
          "name": "stdout",
          "text": [
            "A\n",
            "B\n"
          ]
        }
      ]
    },
    {
      "cell_type": "code",
      "source": [
        "# exit the loop when x is \"B\" , but this time the break comes before the print\n",
        "l1=[\"A\",\"B\",\"C\",\"D\"]\n",
        "for x in l1:\n",
        "  if x == \"B\":\n",
        "    break\n",
        "  print(x)"
      ],
      "metadata": {
        "colab": {
          "base_uri": "https://localhost:8080/"
        },
        "id": "nBYuOOppq2s-",
        "outputId": "9aa39102-5d9e-4897-9d38-ed2123b77c69"
      },
      "execution_count": null,
      "outputs": [
        {
          "output_type": "stream",
          "name": "stdout",
          "text": [
            "A\n"
          ]
        }
      ]
    },
    {
      "cell_type": "code",
      "source": [
        "# continue statement\n",
        "l1=[\"A\",\"B\",\"C\",\"D\"]\n",
        "for x in l1:\n",
        "  if x == \"B\":\n",
        "    continue\n",
        "  print(x)"
      ],
      "metadata": {
        "colab": {
          "base_uri": "https://localhost:8080/"
        },
        "id": "6W3WWjyIr-Lo",
        "outputId": "34a75345-c9ee-4b39-990a-d20759f795f2"
      },
      "execution_count": null,
      "outputs": [
        {
          "output_type": "stream",
          "name": "stdout",
          "text": [
            "A\n",
            "C\n",
            "D\n"
          ]
        }
      ]
    },
    {
      "cell_type": "code",
      "source": [
        "# Range() function\n",
        "for x in range(1,10):\n",
        "  print(x)"
      ],
      "metadata": {
        "colab": {
          "base_uri": "https://localhost:8080/"
        },
        "id": "Pye8UFFasSGy",
        "outputId": "749b4b42-d424-47ac-b73e-cfee64e329fe"
      },
      "execution_count": null,
      "outputs": [
        {
          "output_type": "stream",
          "name": "stdout",
          "text": [
            "1\n",
            "2\n",
            "3\n",
            "4\n",
            "5\n",
            "6\n",
            "7\n",
            "8\n",
            "9\n"
          ]
        }
      ]
    },
    {
      "cell_type": "code",
      "source": [
        "for x in range(2,6):\n",
        "  print(x)"
      ],
      "metadata": {
        "colab": {
          "base_uri": "https://localhost:8080/"
        },
        "id": "_Nk5sUaisxFQ",
        "outputId": "3ab5a66e-5740-4585-eb5b-413b3b94b7b9"
      },
      "execution_count": null,
      "outputs": [
        {
          "output_type": "stream",
          "name": "stdout",
          "text": [
            "2\n",
            "3\n",
            "4\n",
            "5\n"
          ]
        }
      ]
    },
    {
      "cell_type": "code",
      "source": [
        "for x in range (2,30,3):\n",
        "  print(x)"
      ],
      "metadata": {
        "colab": {
          "base_uri": "https://localhost:8080/"
        },
        "id": "e59V7RIXte2B",
        "outputId": "9386c2ba-97e3-4b05-e031-c296ecc58b1c"
      },
      "execution_count": null,
      "outputs": [
        {
          "output_type": "stream",
          "name": "stdout",
          "text": [
            "2\n",
            "5\n",
            "8\n",
            "11\n",
            "14\n",
            "17\n",
            "20\n",
            "23\n",
            "26\n",
            "29\n"
          ]
        }
      ]
    },
    {
      "cell_type": "code",
      "source": [
        "# For revers\n",
        "i=10\n",
        "while i > 0:\n",
        "  print(i)\n",
        "  i=i-1"
      ],
      "metadata": {
        "id": "1YQq7-ARtpNK",
        "colab": {
          "base_uri": "https://localhost:8080/"
        },
        "outputId": "6aa553aa-d64a-461a-9cdb-adff7c24f87b"
      },
      "execution_count": null,
      "outputs": [
        {
          "output_type": "stream",
          "name": "stdout",
          "text": [
            "10\n",
            "9\n",
            "8\n",
            "7\n",
            "6\n",
            "5\n",
            "4\n",
            "3\n",
            "2\n",
            "1\n"
          ]
        }
      ]
    },
    {
      "cell_type": "code",
      "source": [
        "i=100\n",
        "while i > 0:\n",
        "  print(i)\n",
        "  i=i-15"
      ],
      "metadata": {
        "colab": {
          "base_uri": "https://localhost:8080/"
        },
        "id": "Z7RPUDXs8VsD",
        "outputId": "3061ab01-feaa-4c30-8215-78f9eb8085b9"
      },
      "execution_count": null,
      "outputs": [
        {
          "output_type": "stream",
          "name": "stdout",
          "text": [
            "100\n",
            "85\n",
            "70\n",
            "55\n",
            "40\n",
            "25\n",
            "10\n"
          ]
        }
      ]
    },
    {
      "cell_type": "code",
      "source": [
        "n=int(input(\"enter a number:\"))\n",
        "fact=1\n",
        "for i in range (1,n+1):\n",
        "  fact = fact*i\n",
        "print(\"the factorial is :\")\n",
        "print(fact)\n"
      ],
      "metadata": {
        "id": "cAT2_NW7GCa_",
        "colab": {
          "base_uri": "https://localhost:8080/"
        },
        "outputId": "ce1cded1-ae57-497f-dd7f-ebb0454c32b2"
      },
      "execution_count": null,
      "outputs": [
        {
          "output_type": "stream",
          "name": "stdout",
          "text": [
            "enter a number:5\n",
            "the factorial is :\n",
            "120\n"
          ]
        }
      ]
    },
    {
      "cell_type": "code",
      "source": [
        "# 1. Write a program to find the sum of the first natural numbers (1,2,3,4,5)\n",
        "x=[1,2,3,4,5]\n",
        "y=sum(x)\n",
        "print(y)"
      ],
      "metadata": {
        "id": "ahBNMcNkGU3l",
        "colab": {
          "base_uri": "https://localhost:8080/"
        },
        "outputId": "b977328a-7b3b-483f-a52a-7892a43a4782"
      },
      "execution_count": null,
      "outputs": [
        {
          "output_type": "stream",
          "name": "stdout",
          "text": [
            "15\n"
          ]
        }
      ]
    },
    {
      "cell_type": "code",
      "source": [
        "# 2. count even and odd numbers in a list\n",
        "numbers=[1,2,3,23,21,25,65,22,58,66,52,53,37,78,98]\n",
        "even_count=0\n",
        "odd_count=0\n",
        "\n",
        "for num in numbers:\n",
        "   if num % 2 == 0:\n",
        "       even_count+=1\n",
        "   else:\n",
        "       odd_count+=1\n",
        "\n",
        "print(\"even numbers:\",even_count)\n",
        "\n",
        "print(\"odd numbers:\",odd_count)\n",
        "\n"
      ],
      "metadata": {
        "colab": {
          "base_uri": "https://localhost:8080/"
        },
        "id": "Yg63sIO-4rt6",
        "outputId": "13af4116-2bb1-448b-855b-0375c1d8b75d"
      },
      "execution_count": null,
      "outputs": [
        {
          "output_type": "stream",
          "name": "stdout",
          "text": [
            "even numbers: 7\n",
            "odd numbers: 8\n"
          ]
        }
      ]
    },
    {
      "cell_type": "code",
      "source": [
        "# 3. Print numbers in revers order(10 to 1 using a for loop)\n",
        "for i in range(10):\n",
        "  print(10-i)"
      ],
      "metadata": {
        "colab": {
          "base_uri": "https://localhost:8080/"
        },
        "id": "QXdx3GaU7qHd",
        "outputId": "619d08f8-16e3-48cb-f8a7-f47439269b95"
      },
      "execution_count": null,
      "outputs": [
        {
          "output_type": "stream",
          "name": "stdout",
          "text": [
            "10\n",
            "9\n",
            "8\n",
            "7\n",
            "6\n",
            "5\n",
            "4\n",
            "3\n",
            "2\n",
            "1\n"
          ]
        }
      ]
    },
    {
      "cell_type": "code",
      "source": [
        "# WAP to check whether a given number is prime or not?\n",
        "num=int(input(\"enter a number:\"))\n",
        "\n",
        "if num == 0 or num==1:\n",
        "  print(num, \"is not a prime number\")\n",
        "elif num > 1:\n",
        "  # check for factors\n",
        "  for i in range (2,num):\n",
        "      if (num % i)==0:\n",
        "          print(num ,\"is not a prime number\")\n",
        "          break\n",
        "  else:\n",
        "    print(num,\"is a prime number\")\n",
        "\n",
        "# if input is less than or equal to 1,it is not prime\n",
        "else:\n",
        "  print(num,\"is not a prime number\")"
      ],
      "metadata": {
        "colab": {
          "base_uri": "https://localhost:8080/"
        },
        "id": "Bu1Gh3Coq3QP",
        "outputId": "14b94ffd-38d3-4b01-9b0a-a45939881274"
      },
      "execution_count": null,
      "outputs": [
        {
          "output_type": "stream",
          "name": "stdout",
          "text": [
            "enter a number:23\n",
            "23 is a prime number\n"
          ]
        }
      ]
    },
    {
      "cell_type": "code",
      "source": [
        "# WAP to find revers of a number\n",
        "num=int(input(\"enter any number\"))\n",
        "rev=0\n",
        "while(num>0):\n",
        "  rev=(rev*10)+num%10\n",
        "  num=num//10\n",
        "print(\"revers of a given number is:\",rev)"
      ],
      "metadata": {
        "colab": {
          "base_uri": "https://localhost:8080/"
        },
        "id": "Oof7q3SxtHoZ",
        "outputId": "e0237a61-9446-498c-c0b1-775aed8b7760"
      },
      "execution_count": null,
      "outputs": [
        {
          "output_type": "stream",
          "name": "stdout",
          "text": [
            "enter any number25664\n",
            "revers of a given number is: 46652\n"
          ]
        }
      ]
    },
    {
      "cell_type": "code",
      "source": [
        "# WAP to check whether given number is armstrong or not\n",
        "n=int(input(\"enter number:\"))\n",
        "x=n\n",
        "sum=0\n",
        "while(n>0):\n",
        "  sum=sum+(n%10)*(n%10)*(n%10)\n",
        "  n=n//10\n",
        "if x==sum:\n",
        "  print(\"number is armstrong\")\n",
        "else:\n",
        "  print(\"number is not armstrong\")"
      ],
      "metadata": {
        "id": "wOnBqjFZwRCP",
        "colab": {
          "base_uri": "https://localhost:8080/"
        },
        "outputId": "6bf5fe87-5813-4d1a-a391-ef8db8be5465"
      },
      "execution_count": null,
      "outputs": [
        {
          "output_type": "stream",
          "name": "stdout",
          "text": [
            "enter number:153\n",
            "number is armstrong\n"
          ]
        }
      ]
    },
    {
      "cell_type": "code",
      "source": [
        "# WAP to print fibonacci series upto given limit\n",
        "n=int(input(\"enter the limit number:\"))\n",
        "x=0\n",
        "y=1\n",
        "z=0\n",
        "while(z<=n):\n",
        "  print(z)\n",
        "  x=y\n",
        "  y=z\n",
        "  z=x+y"
      ],
      "metadata": {
        "colab": {
          "base_uri": "https://localhost:8080/"
        },
        "id": "JQlJLYyrFO0c",
        "outputId": "475cdd26-6a22-4d42-dcfd-6d63ef280687"
      },
      "execution_count": null,
      "outputs": [
        {
          "output_type": "stream",
          "name": "stdout",
          "text": [
            "enter the limit number:10\n",
            "0\n",
            "1\n",
            "1\n",
            "2\n",
            "3\n",
            "5\n",
            "8\n"
          ]
        }
      ]
    },
    {
      "cell_type": "code",
      "source": [
        "# WAP to print pattern:\n",
        "# *\n",
        "# **\n",
        "# ***\n",
        "# ****\n",
        "# *****"
      ],
      "metadata": {
        "id": "PU9Q8MP6IpIL"
      },
      "execution_count": null,
      "outputs": []
    },
    {
      "cell_type": "code",
      "source": [
        "num=int(input(\"enter number of rows:\"))\n",
        "for i in range (1,num+1):\n",
        "  for j in range(1,i+1):\n",
        "    print(\"*\",end=\"\")\n",
        "  print()"
      ],
      "metadata": {
        "colab": {
          "base_uri": "https://localhost:8080/"
        },
        "id": "CZ9qPXwOIukk",
        "outputId": "5b2a6a58-abc6-45d4-862f-fe6aba181511"
      },
      "execution_count": null,
      "outputs": [
        {
          "output_type": "stream",
          "name": "stdout",
          "text": [
            "enter number of rows:10\n",
            "*\n",
            "**\n",
            "***\n",
            "****\n",
            "*****\n",
            "******\n",
            "*******\n",
            "********\n",
            "*********\n",
            "**********\n"
          ]
        }
      ]
    },
    {
      "cell_type": "code",
      "source": [
        "# 2. count even and odd numbers in a list\n",
        "numbers=[1,2,3,23,21,25,65,22,58,66,43,52,53,37,78,98]\n",
        "even_count=0\n",
        "odd_count=0\n",
        "\n",
        "for num in numbers:\n",
        "        if num%2==0:\n",
        "          even_count+=1\n",
        "        else:\n",
        "          odd_count+=1\n",
        "\n",
        "print(\"even numbers\",even_count)\n",
        "print(\"odd numbers\",odd_count)\n"
      ],
      "metadata": {
        "id": "cHQJh1PZJ3Zm",
        "colab": {
          "base_uri": "https://localhost:8080/"
        },
        "outputId": "e195d518-43c3-48c0-ffcc-9f5459956da5"
      },
      "execution_count": null,
      "outputs": [
        {
          "output_type": "stream",
          "name": "stdout",
          "text": [
            "even numbers 7\n",
            "odd numbers 9\n"
          ]
        }
      ]
    },
    {
      "cell_type": "code",
      "source": [],
      "metadata": {
        "id": "wt5YPssLfiu4"
      },
      "execution_count": null,
      "outputs": []
    }
  ],
  "metadata": {
    "colab": {
      "provenance": []
    },
    "kernelspec": {
      "display_name": "Python 3",
      "name": "python3"
    },
    "language_info": {
      "name": "python"
    }
  },
  "nbformat": 4,
  "nbformat_minor": 0
}
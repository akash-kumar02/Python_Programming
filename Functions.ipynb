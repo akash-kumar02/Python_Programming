{
  "nbformat": 4,
  "nbformat_minor": 0,
  "metadata": {
    "colab": {
      "provenance": []
    },
    "kernelspec": {
      "name": "python3",
      "display_name": "Python 3"
    },
    "language_info": {
      "name": "python"
    }
  },
  "cells": [
    {
      "cell_type": "code",
      "execution_count": null,
      "metadata": {
        "id": "mO0zw6QIiVKn"
      },
      "outputs": [],
      "source": [
        "# a function is defined using the def keyword\n",
        "def my_function():\n",
        "  print(\"hello from a function\")"
      ]
    },
    {
      "cell_type": "code",
      "source": [
        "# calling function\n",
        "my_function()"
      ],
      "metadata": {
        "colab": {
          "base_uri": "https://localhost:8080/"
        },
        "id": "a4ayowcJuicx",
        "outputId": "f10e8cf9-863a-4e51-dc8d-e7bbd1a7b15f"
      },
      "execution_count": null,
      "outputs": [
        {
          "output_type": "stream",
          "name": "stdout",
          "text": [
            "hello from a function\n"
          ]
        }
      ]
    },
    {
      "cell_type": "code",
      "source": [
        "def my_function(fname):\n",
        " print(fname+\" Trump\")\n",
        "my_function(\"Donald\")\n"
      ],
      "metadata": {
        "colab": {
          "base_uri": "https://localhost:8080/"
        },
        "id": "hhApo9_dur8C",
        "outputId": "775dc214-37f0-46df-d9b1-9a4688d28bce"
      },
      "execution_count": null,
      "outputs": [
        {
          "output_type": "stream",
          "name": "stdout",
          "text": [
            "Donald Trump\n"
          ]
        }
      ]
    },
    {
      "cell_type": "code",
      "source": [
        "my_function(\"Melliania\")"
      ],
      "metadata": {
        "colab": {
          "base_uri": "https://localhost:8080/"
        },
        "id": "13WmzJkzwbKA",
        "outputId": "ec49f1ba-f5df-4106-cea2-b46e18b4bc3c"
      },
      "execution_count": null,
      "outputs": [
        {
          "output_type": "stream",
          "name": "stdout",
          "text": [
            "Melliania Trump\n"
          ]
        }
      ]
    },
    {
      "cell_type": "code",
      "source": [
        "def even_odd(num):\n",
        "  if num%2==0:\n",
        "   print(\"the number is even\")\n",
        "  else:\n",
        "   print(\"the number is odd\")\n"
      ],
      "metadata": {
        "id": "aYEd2VZbwtgz"
      },
      "execution_count": null,
      "outputs": []
    },
    {
      "cell_type": "code",
      "source": [
        "# call this function\n",
        "even_odd(23)"
      ],
      "metadata": {
        "colab": {
          "base_uri": "https://localhost:8080/"
        },
        "id": "FUcRRQB_xPnV",
        "outputId": "965c37f3-4fa5-4e11-e84f-3ddf0973928c"
      },
      "execution_count": null,
      "outputs": [
        {
          "output_type": "stream",
          "name": "stdout",
          "text": [
            "the number is odd\n"
          ]
        }
      ]
    },
    {
      "cell_type": "code",
      "source": [
        "# functions with multiple parameters\n",
        "def add(a,b):\n",
        "    return a+b\n",
        "\n",
        "add(1,2)"
      ],
      "metadata": {
        "colab": {
          "base_uri": "https://localhost:8080/"
        },
        "id": "kv16GBuWxcsU",
        "outputId": "030a1b4d-d946-4741-e12b-886f8bbd25c9"
      },
      "execution_count": null,
      "outputs": [
        {
          "output_type": "execute_result",
          "data": {
            "text/plain": [
              "3"
            ]
          },
          "metadata": {},
          "execution_count": 13
        }
      ]
    },
    {
      "cell_type": "code",
      "source": [
        "add(3435,53436)"
      ],
      "metadata": {
        "colab": {
          "base_uri": "https://localhost:8080/"
        },
        "id": "dcv5uRPZy1Wd",
        "outputId": "947c9a5c-d2b5-40db-89dc-ac51f6beddef"
      },
      "execution_count": null,
      "outputs": [
        {
          "output_type": "execute_result",
          "data": {
            "text/plain": [
              "56871"
            ]
          },
          "metadata": {},
          "execution_count": 14
        }
      ]
    },
    {
      "cell_type": "code",
      "source": [
        "# function can eturn multiple vlue\n",
        "def add(a,b):\n",
        "  return a+b,a\n",
        "\n",
        "add(4,5)"
      ],
      "metadata": {
        "colab": {
          "base_uri": "https://localhost:8080/"
        },
        "id": "ETO4uYdWy57S",
        "outputId": "9f589587-e9b2-4eed-e809-327b41ccc9e7"
      },
      "execution_count": null,
      "outputs": [
        {
          "output_type": "execute_result",
          "data": {
            "text/plain": [
              "(9, 4)"
            ]
          },
          "metadata": {},
          "execution_count": 16
        }
      ]
    },
    {
      "cell_type": "code",
      "source": [
        "# write a function to swap two numbers without using thhird variable\n",
        "def swap(a,b):\n",
        "  a,b=b,a\n",
        "  print(a)\n",
        "  print(b)"
      ],
      "metadata": {
        "id": "QZUSBe8LzVp7"
      },
      "execution_count": null,
      "outputs": []
    },
    {
      "cell_type": "code",
      "source": [
        "swap(3,4)"
      ],
      "metadata": {
        "colab": {
          "base_uri": "https://localhost:8080/"
        },
        "id": "U43YGSIDz5ZY",
        "outputId": "44e2646e-737f-45dd-c37e-55c6508a2f81"
      },
      "execution_count": null,
      "outputs": [
        {
          "output_type": "stream",
          "name": "stdout",
          "text": [
            "4\n",
            "3\n"
          ]
        }
      ]
    },
    {
      "cell_type": "code",
      "source": [
        "def swap(a,b,c):\n",
        "  a,b,c=b,c,a\n",
        "  print(a)\n",
        "  print(b)\n",
        "  print(c)\n",
        "swap(1,2,3)\n"
      ],
      "metadata": {
        "colab": {
          "base_uri": "https://localhost:8080/"
        },
        "id": "lVNlj3k_z8Jj",
        "outputId": "c4f90cd7-8908-4ca7-9c46-54440b3d5669"
      },
      "execution_count": null,
      "outputs": [
        {
          "output_type": "stream",
          "name": "stdout",
          "text": [
            "2\n",
            "3\n",
            "1\n"
          ]
        }
      ]
    },
    {
      "cell_type": "code",
      "source": [],
      "metadata": {
        "id": "T-jUwheY0y3l"
      },
      "execution_count": null,
      "outputs": []
    }
  ]
}
{
  "cells": [
    {
      "cell_type": "markdown",
      "metadata": {
        "id": "Ps1bwSe1QoB_"
      },
      "source": [
        "•\tPython | Sort Python Dictionaries by Key or Value\n",
        "\n"
      ]
    },
    {
      "cell_type": "code",
      "execution_count": null,
      "metadata": {
        "id": "Ye8kRJAAQoCA",
        "outputId": "a78aeb40-2eed-4f2e-a644-6b5c2a66d0c5"
      },
      "outputs": [
        {
          "name": "stdout",
          "output_type": "stream",
          "text": [
            "['apple', 'banana', 'orange']\n"
          ]
        }
      ],
      "source": [
        "my_dict = {'banana': 3, 'apple': 1, 'orange': 2}\n",
        "g = list(my_dict.keys())\n",
        "g.sort()\n",
        "print(g)\n"
      ]
    },
    {
      "cell_type": "code",
      "execution_count": null,
      "metadata": {
        "id": "IuXNMTbvQoCB",
        "outputId": "610b2712-4fd4-4d9e-a617-8abdd89ea8a2"
      },
      "outputs": [
        {
          "name": "stdout",
          "output_type": "stream",
          "text": [
            "[1, 2, 3]\n"
          ]
        }
      ],
      "source": [
        "my_dict = {'banana': 3, 'apple': 1, 'orange': 2}\n",
        "g = list(my_dict.values())\n",
        "g.sort()\n",
        "print(g)"
      ]
    },
    {
      "cell_type": "code",
      "execution_count": null,
      "metadata": {
        "id": "52p-f9tCQoCB",
        "outputId": "0a0be091-ea10-4f20-87bf-8abaf33367c2"
      },
      "outputs": [
        {
          "name": "stdout",
          "output_type": "stream",
          "text": [
            "Dictionary {2: 56, 1: 2, 5: 12, 4: 24}\n",
            "1 2 4 5 "
          ]
        }
      ],
      "source": [
        "d = {2: 56, 1: 2, 5: 12, 4: 24}\n",
        "\n",
        "print(\"Dictionary\", d)\n",
        "\n",
        "# Sorting and printing dictionary keys\n",
        "for i in sorted(d.keys()):\n",
        "    print(i, end=\" \")\n"
      ]
    },
    {
      "cell_type": "markdown",
      "metadata": {
        "id": "fcIZEn21QoCC"
      },
      "source": [
        "•\tHandling missing keys in Python dictionaries"
      ]
    },
    {
      "cell_type": "code",
      "execution_count": null,
      "metadata": {
        "id": "Y7bGRhgWQoCC",
        "outputId": "a56bf586-1ccf-415a-c7dc-a6e45fe50e85"
      },
      "outputs": [
        {
          "name": "stdout",
          "output_type": "stream",
          "text": [
            "a\n"
          ]
        }
      ],
      "source": [
        "dict = {'a': 56, 'b': 2, 'c': 12, 'd': 24}\n",
        "\n",
        "check = input('cehck value in dictonary or not : ')\n",
        "\n",
        "if check in dict:\n",
        "    print(check)\n",
        "else:\n",
        "    print('value not found')"
      ]
    },
    {
      "cell_type": "code",
      "execution_count": null,
      "metadata": {
        "id": "bMtFIGBnQoCC",
        "outputId": "7daf7328-4cd8-4a95-85ad-34cf758a4f29"
      },
      "outputs": [
        {
          "name": "stdout",
          "output_type": "stream",
          "text": [
            "56\n"
          ]
        }
      ],
      "source": [
        "dict = {'a': 56, 'b': 2, 'c': 12, 'd': 24}\n",
        "\n",
        "check = input('cehck value in dictonary or not : ')\n",
        "\n",
        "print(dict.get(check , 'not found'))"
      ]
    },
    {
      "cell_type": "markdown",
      "metadata": {
        "id": "634UOm3QQoCC"
      },
      "source": [
        "\n",
        "•\tPython dictionary with keys having multiple inputs"
      ]
    },
    {
      "cell_type": "code",
      "execution_count": null,
      "metadata": {
        "id": "dDD0Kl9cQoCC",
        "outputId": "0aff28e9-4ae3-45b4-edb8-bd6b4d22f3f3"
      },
      "outputs": [
        {
          "name": "stdout",
          "output_type": "stream",
          "text": [
            "{'child1': {'name': 'suneet', 'year': 2004, 'course': 'datascience '}, 'child2': {'name': 'sahil', 'year': 2005, 'course': 'datascience '}, 'child3': {'name': 'nitin', 'year': 2001, 'course': 'datascience '}, 'child4': {'name': 'mayank', 'year': 2000, 'course': 'datascience '}}\n"
          ]
        }
      ],
      "source": [
        "clas = {\n",
        "    \"child1\": {      \"name\" : \"suneet\",      \"year\" : 2004 , \"course\": \"datascience \"  },\n",
        "    \"child2\": {      \"name\" : \"sahil\",       \"year\" : 2005 , \"course\": \"datascience \"  },\n",
        "    \"child3\": {      \"name\" : \"nitin\",       \"year\" : 2001 , \"course\": \"datascience \"  },\n",
        "    \"child4\": {      \"name\" : \"mayank\",      \"year\" : 2000 , \"course\": \"datascience \"}\n",
        "\n",
        "}\n",
        "\n",
        "print(clas)"
      ]
    },
    {
      "cell_type": "markdown",
      "metadata": {
        "id": "h8XmqCjzQoCD"
      },
      "source": [
        "\n",
        "•\tPython program to find the sum of all items in a dictionary"
      ]
    },
    {
      "cell_type": "code",
      "execution_count": null,
      "metadata": {
        "id": "_qIA7GhdQoCD"
      },
      "outputs": [],
      "source": [
        "clas = {\n",
        "    \"child1\": {      \"name\" : \"suneet\",      \"hindi\" : 42 , \"english\": 52  },\n",
        "    \"child2\": {      \"name\" : \"sahil\",       \"hindi\" : 25 , \"english\": 56  },\n",
        "    \"child3\": {      \"name\" : \"nitin\",       \"hindi\" : 21 , \"english\": 45  },\n",
        "    \"child4\": {      \"name\" : \"mayank\",      \"hindi\" : 20 , \"english\": 58  }\n",
        "\n",
        "}"
      ]
    },
    {
      "cell_type": "markdown",
      "metadata": {
        "id": "Q3w7ZuQ_QoCD"
      },
      "source": [
        "\n",
        "•\tPython program to find the size of a Dictionary"
      ]
    },
    {
      "cell_type": "code",
      "execution_count": null,
      "metadata": {
        "id": "9pMX2m3VQoCD",
        "outputId": "b817e686-2706-47f5-c410-26ac4784394c"
      },
      "outputs": [
        {
          "name": "stdout",
          "output_type": "stream",
          "text": [
            "4\n"
          ]
        }
      ],
      "source": [
        "clas = {\n",
        "    \"child1\": {      \"name\" : \"suneet\",      \"hindi\" : 42 , \"english\": 52  },\n",
        "    \"child2\": {      \"name\" : \"sahil\",       \"hindi\" : 25 , \"english\": 56  },\n",
        "    \"child3\": {      \"name\" : \"nitin\",       \"hindi\" : 21 , \"english\": 45  },\n",
        "    \"child4\": {      \"name\" : \"mayank\",      \"hindi\" : 20 , \"english\": 58  }\n",
        "\n",
        "}\n",
        "\n",
        "print(len(clas))\n",
        "\n"
      ]
    },
    {
      "cell_type": "markdown",
      "metadata": {
        "id": "6PKLX3D1QoCD"
      },
      "source": [
        "\n",
        "•\tWays to sort list of dictionaries by values in Python – Using itemg etter\n"
      ]
    },
    {
      "cell_type": "code",
      "execution_count": null,
      "metadata": {
        "id": "SShuz7A0QoCD"
      },
      "outputs": [],
      "source": []
    },
    {
      "cell_type": "markdown",
      "metadata": {
        "id": "FwwCMBvtQoCD"
      },
      "source": [
        "•\tWays to sort list of dictionaries by values in Python – Using lambda function\n"
      ]
    },
    {
      "cell_type": "code",
      "execution_count": null,
      "metadata": {
        "id": "DhpV3tQBQoCD"
      },
      "outputs": [],
      "source": []
    },
    {
      "cell_type": "markdown",
      "metadata": {
        "id": "pBXYThqeQoCE"
      },
      "source": [
        "•\tPython | Merging two Dictionaries\n"
      ]
    },
    {
      "cell_type": "code",
      "execution_count": null,
      "metadata": {
        "id": "i1p4ZngxQoCE"
      },
      "outputs": [],
      "source": []
    },
    {
      "cell_type": "markdown",
      "metadata": {
        "id": "R04PbHnUQoCE"
      },
      "source": [
        "•\tProgram to create grade calculator in Python\n"
      ]
    },
    {
      "cell_type": "code",
      "execution_count": null,
      "metadata": {
        "id": "HlFJ_HKLQoCE"
      },
      "outputs": [],
      "source": [
        "def calculate_grade(score):\n",
        "    # Define the grading scale\n",
        "    grading_scale = {\n",
        "        'A': (90, 100),\n",
        "        'B': (80, 89),\n",
        "        'C': (70, 79),\n",
        "        'D': (60, 69),\n",
        "        'F': (0, 59)\n",
        "    }\n",
        "\n",
        "    # Determine the grade based on the score\n",
        "    for grade, (lower, upper) in grading_scale.items():\n",
        "        if lower <= score <= upper:\n",
        "            return grade\n",
        "    return 'Invalid'  # If the score is outside the defined scale\n",
        "\n",
        "# Example usage\n",
        "try:\n",
        "    # Get the student's score as input\n",
        "    input_score = float(input(\"Enter the student's score: \"))\n",
        "\n",
        "    # Check if the input score is valid (between 0 and 100)\n",
        "    if 0 <= input_score <= 100:\n",
        "        # Calculate and display the grade\n",
        "        result_grade = calculate_grade(input_score)\n",
        "        print(f\"The student's grade is: {result_grade}\")\n",
        "    else:\n",
        "        print(\"Invalid input! Please enter a score between 0 and 100.\")\n",
        "except ValueError:\n",
        "    print(\"Invalid input! Please enter a numeric score.\")\n"
      ]
    },
    {
      "cell_type": "markdown",
      "metadata": {
        "id": "rmzPPSCpQoCE"
      },
      "source": [
        "•\tPython – Insertion at the beginning in OrderedDict\n"
      ]
    },
    {
      "cell_type": "code",
      "execution_count": null,
      "metadata": {
        "id": "6VwoLFxQQoCE"
      },
      "outputs": [],
      "source": []
    },
    {
      "cell_type": "markdown",
      "metadata": {
        "id": "BoF2EW7PQoCE"
      },
      "source": [
        "•\tPython | Check order of character in string using OrderedDict( )\n"
      ]
    },
    {
      "cell_type": "code",
      "execution_count": null,
      "metadata": {
        "id": "YvudxhwVQoCE"
      },
      "outputs": [],
      "source": []
    },
    {
      "cell_type": "markdown",
      "metadata": {
        "id": "-9jWDY3AQoCE"
      },
      "source": [
        "•\tPython | Find common elements in three sorted arrays by dictionary intersection\n"
      ]
    },
    {
      "cell_type": "code",
      "execution_count": null,
      "metadata": {
        "id": "lWv_RUx8QoCE"
      },
      "outputs": [],
      "source": []
    },
    {
      "cell_type": "markdown",
      "metadata": {
        "id": "ToclzGcnQoCF"
      },
      "source": [
        "•\tDictionary and counter in Python to find winner of election\n",
        "\n"
      ]
    },
    {
      "cell_type": "code",
      "execution_count": null,
      "metadata": {
        "id": "a9GJ-4VTQoCF"
      },
      "outputs": [],
      "source": []
    },
    {
      "cell_type": "markdown",
      "metadata": {
        "id": "r8Bsf8I5QoCF"
      },
      "source": [
        "•\tPython – Key with maximum unique values\n"
      ]
    },
    {
      "cell_type": "code",
      "execution_count": null,
      "metadata": {
        "id": "RG5x5xJvQoCF",
        "outputId": "0c6c643e-b456-49ee-889a-ffcb9138bde1"
      },
      "outputs": [
        {
          "name": "stdout",
          "output_type": "stream",
          "text": [
            "56\n"
          ]
        }
      ],
      "source": [
        "dict = {'a': 56, 'b': 2, 'c': 12, 'd': 24}\n",
        "\n",
        "value = list(dict.values())\n",
        "\n",
        "print(max(value))\n"
      ]
    },
    {
      "cell_type": "markdown",
      "metadata": {
        "id": "PKpt6BoSQoCF"
      },
      "source": [
        "•\tFind all duplicate characters in string\n"
      ]
    },
    {
      "cell_type": "code",
      "execution_count": null,
      "metadata": {
        "id": "PMveebSLQoCF"
      },
      "outputs": [],
      "source": []
    },
    {
      "cell_type": "markdown",
      "metadata": {
        "id": "eYYKnzZFQoCF"
      },
      "source": [
        "•\tPython – Group Similar items to Dictionary Values List\n"
      ]
    },
    {
      "cell_type": "code",
      "execution_count": null,
      "metadata": {
        "id": "76qGQaGsQoCF"
      },
      "outputs": [],
      "source": []
    },
    {
      "cell_type": "markdown",
      "metadata": {
        "id": "kqFNlVIAQoCF"
      },
      "source": [
        "•\tK’th Non-repeating Character in Python using List Comprehension and OrderedDict\n"
      ]
    },
    {
      "cell_type": "code",
      "execution_count": null,
      "metadata": {
        "id": "_JQwjV5SQoCF"
      },
      "outputs": [],
      "source": []
    },
    {
      "cell_type": "markdown",
      "metadata": {
        "id": "LQMVsce7QoCF"
      },
      "source": [
        "•\tPython – Replace String by Kth Dictionary value\n"
      ]
    },
    {
      "cell_type": "code",
      "execution_count": null,
      "metadata": {
        "id": "iBJAnhDaQoCG",
        "outputId": "35be4061-7a8a-41ba-b4c3-09468fdbc460"
      },
      "outputs": [
        {
          "name": "stdout",
          "output_type": "stream",
          "text": [
            "{'a': 56, 'b': 2, 'c': 12, 'd': 24}\n"
          ]
        },
        {
          "ename": "TypeError",
          "evalue": "'str' object is not callable",
          "output_type": "error",
          "traceback": [
            "\u001b[1;31m---------------------------------------------------------------------------\u001b[0m",
            "\u001b[1;31mTypeError\u001b[0m                                 Traceback (most recent call last)",
            "Cell \u001b[1;32mIn[11], line 4\u001b[0m\n\u001b[0;32m      1\u001b[0m \u001b[38;5;28mdict\u001b[39m \u001b[38;5;241m=\u001b[39m {\u001b[38;5;124m'\u001b[39m\u001b[38;5;124ma\u001b[39m\u001b[38;5;124m'\u001b[39m: \u001b[38;5;241m56\u001b[39m, \u001b[38;5;124m'\u001b[39m\u001b[38;5;124mb\u001b[39m\u001b[38;5;124m'\u001b[39m: \u001b[38;5;241m2\u001b[39m, \u001b[38;5;124m'\u001b[39m\u001b[38;5;124mc\u001b[39m\u001b[38;5;124m'\u001b[39m: \u001b[38;5;241m12\u001b[39m, \u001b[38;5;124m'\u001b[39m\u001b[38;5;124md\u001b[39m\u001b[38;5;124m'\u001b[39m: \u001b[38;5;241m24\u001b[39m}\n\u001b[0;32m      3\u001b[0m \u001b[38;5;28mprint\u001b[39m(\u001b[38;5;28mdict\u001b[39m)\n\u001b[1;32m----> 4\u001b[0m \u001b[38;5;28mstr\u001b[39m(\u001b[38;5;124m'\u001b[39m\u001b[38;5;124m'\u001b[39m)\n\u001b[0;32m      5\u001b[0m \u001b[38;5;28;01mwhile\u001b[39;00m  \u001b[38;5;28mstr\u001b[39m \u001b[38;5;241m!=\u001b[39m exit:\n\u001b[0;32m      6\u001b[0m     \u001b[38;5;28mstr\u001b[39m \u001b[38;5;241m=\u001b[39m \u001b[38;5;28minput\u001b[39m(\u001b[38;5;124m\"\u001b[39m\u001b[38;5;124mEnter a word or exit: \u001b[39m\u001b[38;5;124m\"\u001b[39m)\n",
            "\u001b[1;31mTypeError\u001b[0m: 'str' object is not callable"
          ]
        }
      ],
      "source": [
        "dict = {'a': 56, 'b': 2, 'c': 12, 'd': 24}\n",
        "\n",
        "print(dict)\n",
        "str('')\n",
        "while  str != exit:\n",
        "    str = input(\"Enter a word or exit: \")\n",
        "\n",
        "\n"
      ]
    },
    {
      "cell_type": "markdown",
      "metadata": {
        "id": "nXodmtyQQoCG"
      },
      "source": [
        "•\tPython | Ways to remove a key from dictionary\n"
      ]
    },
    {
      "cell_type": "code",
      "execution_count": null,
      "metadata": {
        "id": "suvwat8iQoCG"
      },
      "outputs": [],
      "source": []
    },
    {
      "cell_type": "markdown",
      "metadata": {
        "id": "BT1cWT1XQoCG"
      },
      "source": [
        "•\tPython – Replace words from Dictionary\n"
      ]
    },
    {
      "cell_type": "code",
      "execution_count": null,
      "metadata": {
        "id": "mK62TwfjQoCG",
        "outputId": "ec4de336-adf3-4e64-b868-dd93a6c65d14"
      },
      "outputs": [
        {
          "name": "stdout",
          "output_type": "stream",
          "text": [
            "{'banana': '5', 'apple': 1, 'orange': 2}\n"
          ]
        }
      ],
      "source": [
        "dit = {'banana': 3, 'apple': 1, 'orange': 2}\n",
        "\n",
        "key = input(' replace word ')\n",
        "\n",
        "value = input('replace value ')\n",
        "\n",
        "dit.update({key : value})\n",
        "\n",
        "print(dit)"
      ]
    },
    {
      "cell_type": "markdown",
      "metadata": {
        "id": "e1WG7_CaQoCG"
      },
      "source": [
        "•\tPython – Remove Dictionary Key Words\n"
      ]
    },
    {
      "cell_type": "code",
      "execution_count": null,
      "metadata": {
        "id": "OltuKZwxQoCH",
        "outputId": "8da56f3d-c807-4d9c-8472-0b9f48bdc420"
      },
      "outputs": [
        {
          "name": "stdout",
          "output_type": "stream",
          "text": [
            "{'banana': 3, 'orange': 2}\n"
          ]
        }
      ],
      "source": [
        "dit = {'banana': 3, 'apple': 1, 'orange': 2}\n",
        "\n",
        "key = input(' replace word ')\n",
        "\n",
        "del dit[key ]\n",
        "\n",
        "print(dit)"
      ]
    },
    {
      "cell_type": "markdown",
      "metadata": {
        "id": "xwBMDvmhQoCH"
      },
      "source": [
        "•\tPython | Remove all duplicates words from a given sentence\n"
      ]
    },
    {
      "cell_type": "code",
      "execution_count": null,
      "metadata": {
        "id": "Jgo_XoqVQoCH"
      },
      "outputs": [],
      "source": []
    },
    {
      "cell_type": "markdown",
      "metadata": {
        "id": "tfgrBWvlQoCH"
      },
      "source": [
        "•\tPython – Remove duplicate values across Dictionary Values\n"
      ]
    },
    {
      "cell_type": "code",
      "execution_count": null,
      "metadata": {
        "id": "NMGCn2M5QoCH",
        "outputId": "fc6ba564-6f75-471b-86a8-7eac4107e3e8"
      },
      "outputs": [
        {
          "name": "stdout",
          "output_type": "stream",
          "text": [
            "{'banana': 3, 'apple': 1, 'orange': 2}\n"
          ]
        }
      ],
      "source": [
        "dit = {'banana': 3, 'apple': 1, 'orange': 2 , 'apple':1}\n",
        "\n",
        "dict_duplicate = {}\n",
        "\n",
        "for key , value in dit.items():\n",
        "    if value not in dict_duplicate.values():\n",
        "        dict_duplicate[key]=value\n",
        "\n",
        "\n",
        "\n",
        "print(dict_duplicate)"
      ]
    },
    {
      "cell_type": "markdown",
      "metadata": {
        "id": "GcgtlBShQoCH"
      },
      "source": [
        "•\tPython Dictionary to find mirror characters in a string\n"
      ]
    },
    {
      "cell_type": "code",
      "execution_count": null,
      "metadata": {
        "id": "ymjO57rYQoCH"
      },
      "outputs": [],
      "source": []
    },
    {
      "cell_type": "markdown",
      "metadata": {
        "id": "HQTrHDiFQoCH"
      },
      "source": [
        "•\tCounting the frequencies in a list using dictionary in Python\n"
      ]
    },
    {
      "cell_type": "code",
      "execution_count": null,
      "metadata": {
        "id": "efBjo3lzQoCI"
      },
      "outputs": [],
      "source": []
    },
    {
      "cell_type": "markdown",
      "metadata": {
        "id": "YuSc8EPHQoCI"
      },
      "source": [
        "•\tPython – Dictionary Values Mean\n"
      ]
    },
    {
      "cell_type": "code",
      "execution_count": null,
      "metadata": {
        "id": "--Uhw-e3QoCI"
      },
      "outputs": [],
      "source": []
    },
    {
      "cell_type": "markdown",
      "metadata": {
        "id": "kKWl-XZvQoCI"
      },
      "source": [
        "•\tPython counter and dictionary intersection example (Make a string using deletion and rearrangement)\n"
      ]
    },
    {
      "cell_type": "code",
      "execution_count": null,
      "metadata": {
        "id": "gUE6Yq3BQoCI"
      },
      "outputs": [],
      "source": []
    },
    {
      "cell_type": "markdown",
      "metadata": {
        "id": "ctQg-mstQoCI"
      },
      "source": [
        "•\tPython dictionary, set and counter to check if frequencies can become same\n"
      ]
    },
    {
      "cell_type": "code",
      "execution_count": null,
      "metadata": {
        "id": "LIpRECFQQoCI"
      },
      "outputs": [],
      "source": []
    },
    {
      "cell_type": "markdown",
      "metadata": {
        "id": "llmB8CKoQoCI"
      },
      "source": [
        "•\tScraping And Finding Ordered Words In A Dictionary using Python\n"
      ]
    },
    {
      "cell_type": "code",
      "execution_count": null,
      "metadata": {
        "id": "37nDqlRjQoCJ"
      },
      "outputs": [],
      "source": []
    },
    {
      "cell_type": "markdown",
      "metadata": {
        "id": "xzcT1vrnQoCJ"
      },
      "source": [
        "•\tPossible Words using given characters in Python\n"
      ]
    },
    {
      "cell_type": "code",
      "execution_count": null,
      "metadata": {
        "id": "kSMu9TMlQoCJ"
      },
      "outputs": [],
      "source": []
    },
    {
      "cell_type": "markdown",
      "metadata": {
        "id": "nTCbe7whQoCJ"
      },
      "source": [
        "•\tPython – Maximum record value key in dictionary\n"
      ]
    },
    {
      "cell_type": "code",
      "execution_count": null,
      "metadata": {
        "id": "N-5qFhJiQoCJ"
      },
      "outputs": [],
      "source": []
    },
    {
      "cell_type": "markdown",
      "metadata": {
        "id": "ZLcd-Q5HQoCJ"
      },
      "source": [
        "•\tPython – Extract values of Particular Key in Nested Values\n"
      ]
    },
    {
      "cell_type": "code",
      "execution_count": null,
      "metadata": {
        "id": "7VNYKHC6QoCJ"
      },
      "outputs": [],
      "source": []
    }
  ],
  "metadata": {
    "kernelspec": {
      "display_name": "base",
      "language": "python",
      "name": "python3"
    },
    "language_info": {
      "codemirror_mode": {
        "name": "ipython",
        "version": 3
      },
      "file_extension": ".py",
      "mimetype": "text/x-python",
      "name": "python",
      "nbconvert_exporter": "python",
      "pygments_lexer": "ipython3",
      "version": "3.12.4"
    },
    "colab": {
      "provenance": []
    }
  },
  "nbformat": 4,
  "nbformat_minor": 0
}
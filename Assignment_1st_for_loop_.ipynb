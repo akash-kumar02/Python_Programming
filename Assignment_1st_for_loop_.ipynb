{
  "cells": [
    {
      "cell_type": "code",
      "execution_count": null,
      "id": "c5c88b56-2a57-4b61-bb8f-75aaa1eae3f9",
      "metadata": {
        "id": "c5c88b56-2a57-4b61-bb8f-75aaa1eae3f9"
      },
      "outputs": [],
      "source": [
        "#Write a Python program to find the sum of the first 5 natural numbers (1, 2, 3, 4, 5)."
      ]
    },
    {
      "cell_type": "code",
      "execution_count": null,
      "id": "1b53bb08-667b-4c3e-bdbd-e78a4a5b2a31",
      "metadata": {
        "id": "1b53bb08-667b-4c3e-bdbd-e78a4a5b2a31",
        "outputId": "ef5e90be-642b-4d06-9fcd-dc447932239b"
      },
      "outputs": [
        {
          "name": "stdin",
          "output_type": "stream",
          "text": [
            "enter the range here  5\n"
          ]
        },
        {
          "name": "stdout",
          "output_type": "stream",
          "text": [
            "15\n"
          ]
        }
      ],
      "source": [
        "x=int(input(\"enter the range here \"))\n",
        "y=0\n",
        "for x in range(1,x+1):\n",
        "  y +=x\n",
        "print ((y))"
      ]
    },
    {
      "cell_type": "code",
      "execution_count": null,
      "id": "f122b98f-86fc-4003-8c35-6f603746242d",
      "metadata": {
        "id": "f122b98f-86fc-4003-8c35-6f603746242d"
      },
      "outputs": [],
      "source": [
        "#Count Even and Odd Numbers in a List."
      ]
    },
    {
      "cell_type": "code",
      "execution_count": null,
      "id": "ffe77ad1-edc5-4a61-883f-290c647c63f0",
      "metadata": {
        "id": "ffe77ad1-edc5-4a61-883f-290c647c63f0",
        "outputId": "6ce89ee3-113c-4461-8d93-e22918fbbe47"
      },
      "outputs": [
        {
          "name": "stdout",
          "output_type": "stream",
          "text": [
            "even no  5\n",
            "odd no  3\n"
          ]
        }
      ],
      "source": [
        "x=[10,12,1,22,25,22,23,20]\n",
        "even_count=0\n",
        "odd_count=0\n",
        "for i in x:\n",
        "    if i%2==0:\n",
        "        even_count=even_count+1\n",
        "    else:\n",
        "        odd_count=odd_count+1\n",
        "print(\"even no \",even_count)\n",
        "print(\"odd no \" , odd_count)"
      ]
    },
    {
      "cell_type": "code",
      "execution_count": null,
      "id": "5c4df1d7-d489-4e9f-b097-174b77da8efa",
      "metadata": {
        "id": "5c4df1d7-d489-4e9f-b097-174b77da8efa"
      },
      "outputs": [],
      "source": [
        "#Question: Write a Python program to print numbers from 10 to 1 using a for loop."
      ]
    },
    {
      "cell_type": "code",
      "execution_count": 1,
      "id": "535342c9-2d12-4caf-934a-2a187bf0457f",
      "metadata": {
        "id": "535342c9-2d12-4caf-934a-2a187bf0457f",
        "outputId": "3e8b8f6c-1f3d-43c3-abb4-c512334df5f0",
        "colab": {
          "base_uri": "https://localhost:8080/"
        }
      },
      "outputs": [
        {
          "output_type": "stream",
          "name": "stdout",
          "text": [
            "10\n",
            "9\n",
            "8\n",
            "7\n",
            "6\n",
            "5\n",
            "4\n",
            "3\n",
            "2\n",
            "1\n"
          ]
        }
      ],
      "source": [
        "for i in range(10):\n",
        "  print(10-i)"
      ]
    },
    {
      "cell_type": "code",
      "execution_count": null,
      "id": "8f9b17cd-d7e0-495b-9f0f-d12a8902af55",
      "metadata": {
        "id": "8f9b17cd-d7e0-495b-9f0f-d12a8902af55"
      },
      "outputs": [],
      "source": [
        "#Question: Write a Python program to count the number of vowels in a string using a for loop."
      ]
    },
    {
      "cell_type": "code",
      "execution_count": null,
      "id": "5c3a7f74-327f-4cae-9a07-91890ae38b64",
      "metadata": {
        "id": "5c3a7f74-327f-4cae-9a07-91890ae38b64",
        "outputId": "e7560ac9-40c9-4708-a246-580f0ab231f1"
      },
      "outputs": [
        {
          "name": "stdout",
          "output_type": "stream",
          "text": [
            "4\n"
          ]
        }
      ],
      "source": [
        "x=\"Hello Moto\"\n",
        "y=\"aeiou\"\n",
        "z=0\n",
        "for i in x:\n",
        "    if i in y:\n",
        "        z=z+1\n",
        "print(z)"
      ]
    },
    {
      "cell_type": "code",
      "execution_count": null,
      "id": "63fbbd9a-c6e0-43b7-af01-98542e0e218c",
      "metadata": {
        "id": "63fbbd9a-c6e0-43b7-af01-98542e0e218c"
      },
      "outputs": [],
      "source": [
        "#Question: Write a Python program to find the smallest number in a list using a for loop."
      ]
    },
    {
      "cell_type": "code",
      "execution_count": null,
      "id": "b3d68234-ba57-4536-b971-8b8006104da6",
      "metadata": {
        "id": "b3d68234-ba57-4536-b971-8b8006104da6",
        "outputId": "45eb2f0a-58a3-420b-e1a3-de657dc7b0ac"
      },
      "outputs": [
        {
          "name": "stdout",
          "output_type": "stream",
          "text": [
            "2\n"
          ]
        }
      ],
      "source": [
        "x =[121,2,7,9,3,5,6]\n",
        "for num in x:\n",
        "    y=x.sort(reverse= True)\n",
        "    y=num\n",
        "    if y<num:\n",
        "        pass\n",
        "\n",
        "print(num)"
      ]
    },
    {
      "cell_type": "code",
      "execution_count": null,
      "id": "1eb06958-fc91-446f-8627-85d3b6793bf3",
      "metadata": {
        "id": "1eb06958-fc91-446f-8627-85d3b6793bf3"
      },
      "outputs": [],
      "source": []
    },
    {
      "cell_type": "code",
      "execution_count": null,
      "id": "4571caa1-e8bb-41f4-92c4-f0765319b0bc",
      "metadata": {
        "id": "4571caa1-e8bb-41f4-92c4-f0765319b0bc"
      },
      "outputs": [],
      "source": []
    }
  ],
  "metadata": {
    "kernelspec": {
      "display_name": "Python 3 (ipykernel)",
      "language": "python",
      "name": "python3"
    },
    "language_info": {
      "codemirror_mode": {
        "name": "ipython",
        "version": 3
      },
      "file_extension": ".py",
      "mimetype": "text/x-python",
      "name": "python",
      "nbconvert_exporter": "python",
      "pygments_lexer": "ipython3",
      "version": "3.12.4"
    },
    "colab": {
      "provenance": []
    }
  },
  "nbformat": 4,
  "nbformat_minor": 5
}